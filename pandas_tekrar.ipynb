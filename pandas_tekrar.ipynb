{
 "cells": [
  {
   "cell_type": "code",
   "execution_count": 6,
   "id": "5822d5d1-e3bf-4848-ac8b-1648affccfda",
   "metadata": {},
   "outputs": [
    {
     "name": "stdout",
     "output_type": "stream",
     "text": [
      "Series([], dtype: object)\n"
     ]
    }
   ],
   "source": [
    "import pandas as pd \n",
    "import numpy as np\n",
    "pandas_series=pd.Series()\n",
    "print(pandas_series)"
   ]
  },
  {
   "cell_type": "code",
   "execution_count": 7,
   "id": "eb21e6fb-7777-4e9c-a16c-b77a3b1a18ff",
   "metadata": {},
   "outputs": [
    {
     "name": "stdout",
     "output_type": "stream",
     "text": [
      "0    20\n",
      "1    30\n",
      "2    40\n",
      "3    50\n",
      "dtype: int64\n",
      "0    a\n",
      "1    b\n",
      "2    c\n",
      "3    c\n",
      "dtype: object\n"
     ]
    }
   ],
   "source": [
    "#data \n",
    "numbers=[20,30,40,50]\n",
    "pandas_series=pd.Series(numbers)\n",
    "print(pandas_series)\n",
    "\n",
    "letters=[\"a\",\"b\",\"c\",\"c\"]\n",
    "pandas_series=pd.Series(letters)\n",
    "print(pandas_series)"
   ]
  },
  {
   "cell_type": "code",
   "execution_count": 8,
   "id": "dd45908b-e42b-42df-9410-0dbd0f67afb1",
   "metadata": {},
   "outputs": [],
   "source": [
    "#numpyda dızı elemanları homojen yapıda olmalı yanı hepsı aynı tur\n",
    "#pandasta homojen olmak zorunda degıldır (int ve strıng olunca object dondurdu)"
   ]
  },
  {
   "cell_type": "code",
   "execution_count": 9,
   "id": "b92347c3-4813-4d2c-9849-3770efcb5f2c",
   "metadata": {},
   "outputs": [
    {
     "name": "stdout",
     "output_type": "stream",
     "text": [
      "0     a\n",
      "1     b\n",
      "2     c\n",
      "3     c\n",
      "4    50\n",
      "5    70\n",
      "dtype: object\n"
     ]
    }
   ],
   "source": [
    "letters=[\"a\",\"b\",\"c\",\"c\",50,70]\n",
    "pandas_series=pd.Series(letters)\n",
    "print(pandas_series)"
   ]
  },
  {
   "cell_type": "code",
   "execution_count": 10,
   "id": "d5e2e6a7-2962-4f69-a335-0628fda62f32",
   "metadata": {},
   "outputs": [
    {
     "name": "stdout",
     "output_type": "stream",
     "text": [
      "0    5\n",
      "dtype: int64\n"
     ]
    }
   ],
   "source": [
    "scaler=5\n",
    "pandas_series=pd.Series(scaler)\n",
    "print(pandas_series)"
   ]
  },
  {
   "cell_type": "code",
   "execution_count": 11,
   "id": "077b5d73-35d7-4b0f-b81f-8c551a7c008f",
   "metadata": {},
   "outputs": [
    {
     "name": "stdout",
     "output_type": "stream",
     "text": [
      "0    5\n",
      "1    5\n",
      "2    5\n",
      "3    5\n",
      "dtype: int64\n"
     ]
    }
   ],
   "source": [
    "pandas_series=pd.Series(5,[0,1,2,3])\n",
    "print(pandas_series)\n",
    "#indeks numarasınıda kendımız belırleyebılırız"
   ]
  },
  {
   "cell_type": "code",
   "execution_count": 12,
   "id": "cc6324a0-50c8-4f17-8dfc-30589bd76792",
   "metadata": {},
   "outputs": [
    {
     "name": "stdout",
     "output_type": "stream",
     "text": [
      "a    20\n",
      "b    30\n",
      "c    40\n",
      "d    50\n",
      "dtype: int64\n"
     ]
    }
   ],
   "source": [
    "pandas_series=pd.Series(numbers,[\"a\",\"b\",\"c\",\"d\"])\n",
    "print(pandas_series)"
   ]
  },
  {
   "cell_type": "code",
   "execution_count": 13,
   "id": "6b59538b-aeb3-440c-a6c6-27866439d64e",
   "metadata": {},
   "outputs": [
    {
     "name": "stdout",
     "output_type": "stream",
     "text": [
      "a    10\n",
      "b    20\n",
      "c    30\n",
      "d    40\n",
      "dtype: int64\n"
     ]
    }
   ],
   "source": [
    "dict={\"a\":10,\"b\":20,\"c\":30,\"d\":40}\n",
    "pandas_series=pd.Series(dict)\n",
    "print(pandas_series)"
   ]
  },
  {
   "cell_type": "code",
   "execution_count": 14,
   "id": "524e4026-3e7e-4506-a205-d6b10cc0a712",
   "metadata": {},
   "outputs": [
    {
     "name": "stdout",
     "output_type": "stream",
     "text": [
      "0    20\n",
      "1    78\n",
      "2    68\n",
      "3    31\n",
      "4    34\n",
      "5    26\n",
      "dtype: int32\n"
     ]
    }
   ],
   "source": [
    "random_numbers=np.random.randint(10,100,6)\n",
    "pandas_series=pd.Series(random_numbers)\n",
    "print(pandas_series)"
   ]
  },
  {
   "cell_type": "code",
   "execution_count": 15,
   "id": "ce4337be-fb4c-4660-aae8-8aa176117325",
   "metadata": {},
   "outputs": [
    {
     "name": "stdout",
     "output_type": "stream",
     "text": [
      "20\n",
      "50\n",
      "a    20\n",
      "b    30\n",
      "dtype: int64\n",
      "a    20\n",
      "c    40\n",
      "dtype: int64\n",
      "1\n",
      "int64\n",
      "(4,)\n",
      "140\n",
      "50\n",
      "20\n",
      "a     70\n",
      "b     80\n",
      "c     90\n",
      "d    100\n",
      "dtype: int64\n",
      "a    4.472136\n",
      "b    5.477226\n",
      "c    6.324555\n",
      "d    7.071068\n",
      "dtype: float64\n",
      "a    False\n",
      "b    False\n",
      "c    False\n",
      "d     True\n",
      "dtype: bool\n",
      "a    20\n",
      "b    30\n",
      "c    40\n",
      "d    50\n",
      "dtype: int64\n"
     ]
    }
   ],
   "source": [
    "pandas_series=pd.Series([20,30,40,50],[\"a\",\"b\",\"c\",\"d\"])\n",
    "result=pandas_series[\"a\"]\n",
    "print(result)\n",
    "result=pandas_series.iloc[-1] #indek ile  erısmek ıstersek ıloc kullan\n",
    "print(result)\n",
    "result=pandas_series[:2]\n",
    "print(result)\n",
    "result=pandas_series[[\"a\",\"c\"]]\n",
    "print(result)\n",
    "result=pandas_series.ndim\n",
    "print(result)\n",
    "result=pandas_series.dtype\n",
    "print(result)\n",
    "result=pandas_series.shape\n",
    "print(result)\n",
    "result=pandas_series.sum()\n",
    "print(result)\n",
    "result=pandas_series.max()\n",
    "print(result)\n",
    "result=pandas_series.min()\n",
    "print(result)\n",
    "result=pandas_series+50\n",
    "print(result)\n",
    "result=np.sqrt(pandas_series)\n",
    "print(result)\n",
    "result=pandas_series>=50\n",
    "print(result)\n",
    "\n",
    "print(pandas_series[pandas_series %2 ==0])"
   ]
  },
  {
   "cell_type": "code",
   "execution_count": 16,
   "id": "b108f353-5586-4da2-b270-38ad8aed1a99",
   "metadata": {},
   "outputs": [
    {
     "ename": "TypeError",
     "evalue": "'module' object is not callable",
     "output_type": "error",
     "traceback": [
      "\u001b[1;31m---------------------------------------------------------------------------\u001b[0m",
      "\u001b[1;31mTypeError\u001b[0m                                 Traceback (most recent call last)",
      "Cell \u001b[1;32mIn[16], line 1\u001b[0m\n\u001b[1;32m----> 1\u001b[0m opel2018\u001b[38;5;241m=\u001b[39mpd([\u001b[38;5;241m20\u001b[39m,\u001b[38;5;241m30\u001b[39m,\u001b[38;5;241m40\u001b[39m,\u001b[38;5;241m10\u001b[39m],[\u001b[38;5;124m\"\u001b[39m\u001b[38;5;124mastra\u001b[39m\u001b[38;5;124m\"\u001b[39m,\u001b[38;5;124m\"\u001b[39m\u001b[38;5;124mcorsa\u001b[39m\u001b[38;5;124m\"\u001b[39m,\u001b[38;5;124m\"\u001b[39m\u001b[38;5;124mmokka\u001b[39m\u001b[38;5;124m\"\u001b[39m,\u001b[38;5;124m\"\u001b[39m\u001b[38;5;124minsignia\u001b[39m\u001b[38;5;124m\"\u001b[39m])\n\u001b[0;32m      2\u001b[0m opel2019\u001b[38;5;241m=\u001b[39mpd([\u001b[38;5;241m40\u001b[39m,\u001b[38;5;241m30\u001b[39m,\u001b[38;5;241m40\u001b[39m,\u001b[38;5;241m10\u001b[39m],[\u001b[38;5;124m\"\u001b[39m\u001b[38;5;124mastra\u001b[39m\u001b[38;5;124m\"\u001b[39m,\u001b[38;5;124m\"\u001b[39m\u001b[38;5;124mcorsa\u001b[39m\u001b[38;5;124m\"\u001b[39m,\u001b[38;5;124m\"\u001b[39m\u001b[38;5;124mGrandland\u001b[39m\u001b[38;5;124m\"\u001b[39m,\u001b[38;5;124m\"\u001b[39m\u001b[38;5;124minsignia\u001b[39m\u001b[38;5;124m\"\u001b[39m])\n\u001b[0;32m      4\u001b[0m total\u001b[38;5;241m=\u001b[39mopel2018 \u001b[38;5;241m+\u001b[39m opel2019\n",
      "\u001b[1;31mTypeError\u001b[0m: 'module' object is not callable"
     ]
    }
   ],
   "source": [
    "opel2018=pd([20,30,40,10],[\"astra\",\"corsa\",\"mokka\",\"insignia\"])\n",
    "opel2019=pd([40,30,40,10],[\"astra\",\"corsa\",\"Grandland\",\"insignia\"])\n",
    "\n",
    "total=opel2018 + opel2019\n",
    "print(total)"
   ]
  },
  {
   "cell_type": "markdown",
   "id": "70cd585a-4b4d-44dd-884e-0536dce55d71",
   "metadata": {},
   "source": [
    "## Data Frame"
   ]
  },
  {
   "cell_type": "code",
   "execution_count": 17,
   "id": "0f73acc1-5bc1-4c6c-a3b0-992915229542",
   "metadata": {},
   "outputs": [
    {
     "name": "stdout",
     "output_type": "stream",
     "text": [
      "   apples  oranges\n",
      "0       3        0\n",
      "1       2        3\n",
      "2       0        7\n",
      "3       1        2\n"
     ]
    }
   ],
   "source": [
    "s1=pd.Series([3,2,0,1])\n",
    "s2=pd.Series([0,3,7,2])\n",
    "\n",
    "data = {'apples': s1, 'oranges': s2} \n",
    "df=pd.DataFrame(data)\n",
    "print(df)"
   ]
  },
  {
   "cell_type": "code",
   "execution_count": 18,
   "id": "bd23ebf0-c102-429c-addb-e93487fd9218",
   "metadata": {},
   "outputs": [
    {
     "name": "stdout",
     "output_type": "stream",
     "text": [
      "Empty DataFrame\n",
      "Columns: []\n",
      "Index: []\n"
     ]
    }
   ],
   "source": [
    "df=pd.DataFrame()\n",
    "print(df)"
   ]
  },
  {
   "cell_type": "code",
   "execution_count": 19,
   "id": "7e542f73-62d1-4ea5-a5fc-d2243f926bcd",
   "metadata": {},
   "outputs": [
    {
     "name": "stdout",
     "output_type": "stream",
     "text": [
      "   0\n",
      "0  1\n",
      "1  2\n",
      "2  3\n",
      "3  4\n"
     ]
    }
   ],
   "source": [
    "df=pd.DataFrame([1,2,3,4])\n",
    "print(df)"
   ]
  },
  {
   "cell_type": "code",
   "execution_count": 20,
   "id": "dad0a09a-73ba-4683-bce8-11b65dcbae85",
   "metadata": {},
   "outputs": [
    {
     "name": "stdout",
     "output_type": "stream",
     "text": [
      "        0   1\n",
      "0   Ahmet  50\n",
      "1     Ali  60\n",
      "2  Yagmur  70\n",
      "3   Cinar  80\n"
     ]
    }
   ],
   "source": [
    "df=pd.DataFrame([[\"Ahmet\",50],[\"Ali\",60],[\"Yagmur\",70],[\"Cinar\",80]])\n",
    "print(df)\n",
    "                 "
   ]
  },
  {
   "cell_type": "code",
   "execution_count": 21,
   "id": "90cf8cba-21dd-4e3a-a185-b424a9b26ff7",
   "metadata": {},
   "outputs": [
    {
     "name": "stdout",
     "output_type": "stream",
     "text": [
      "     Name  Grade\n",
      "0   Ahmet     50\n",
      "1     Ali     60\n",
      "2  Yagmur     70\n",
      "3   Cinar     80\n"
     ]
    }
   ],
   "source": [
    "data=[[\"Ahmet\",50],[\"Ali\",60],[\"Yagmur\",70],[\"Cinar\",80]]\n",
    "df=pd.DataFrame(data,columns=[\"Name\",\"Grade\"])\n",
    "print(df)\n",
    "                 "
   ]
  },
  {
   "cell_type": "code",
   "execution_count": 22,
   "id": "ec3e408d-406b-4da9-9874-5b032ef557db",
   "metadata": {},
   "outputs": [
    {
     "name": "stdout",
     "output_type": "stream",
     "text": [
      "     Name  Grade\n",
      "1   Ahmet     50\n",
      "2     Ali     60\n",
      "3  Yagmur     70\n",
      "4   Cinar     80\n",
      "     Name  Grade\n",
      "1   Ahmet     50\n",
      "2     Ali     60\n",
      "3  Yagmur     70\n",
      "4   Cinar     80\n"
     ]
    }
   ],
   "source": [
    "data=[[\"Ahmet\",50],[\"Ali\",60],[\"Yagmur\",70],[\"Cinar\",80]]\n",
    "df=pd.DataFrame(data,columns=[\"Name\",\"Grade\"],index=[1,2,3,4])\n",
    "print(df)\n",
    "#indeks kolon \n",
    "data=[[\"Ahmet\",50],[\"Ali\",60],[\"Yagmur\",70],[\"Cinar\",80]]\n",
    "df=pd.DataFrame(data,index=[1,2,3,4],columns=[\"Name\",\"Grade\"])\n",
    "print(df)"
   ]
  },
  {
   "cell_type": "code",
   "execution_count": 23,
   "id": "8fada4e2-32ca-4d16-99b2-bdb7ed0bd320",
   "metadata": {},
   "outputs": [
    {
     "name": "stdout",
     "output_type": "stream",
     "text": [
      "       Name  Grade\n",
      "212   Ahmet     50\n",
      "232     Ali     60\n",
      "236  Yagmur     70\n",
      "456   Cinar     80\n"
     ]
    }
   ],
   "source": [
    "list=[[\"Ahmet\",50],[\"Ali\",60],[\"Yagmur\",70],[\"Cinar\",80]]\n",
    "dict={\"Name\": [\"Ahmet\",\"Ali\",\"Yagmur\",\"Cinar\"],\"Grade\":[50,60,70,80]}\n",
    "\n",
    "df=pd.DataFrame(dict,index=[\"212\",\"232\",\"236\",\"456\"])\n",
    "print(df)"
   ]
  },
  {
   "cell_type": "code",
   "execution_count": 24,
   "id": "effdaad9-8ade-41ca-b02b-137ccc7484f3",
   "metadata": {},
   "outputs": [
    {
     "name": "stdout",
     "output_type": "stream",
     "text": [
      "     Name  Grade\n",
      "0   Ahmet     50\n",
      "1     Ali     60\n",
      "2  Yagmur     70\n",
      "3   Çınar     70\n"
     ]
    }
   ],
   "source": [
    "dict_list=[\n",
    "    {\"Name\":\"Ahmet\",\"Grade\":50},\n",
    "    {\"Name\":\"Ali\",\"Grade\":60},\n",
    "    {\"Name\":\"Yagmur\",\"Grade\":70},\n",
    "    {\"Name\":\"Çınar\",\"Grade\":70}\n",
    "]\n",
    "df=pd.DataFrame(dict_list)\n",
    "print(df)"
   ]
  },
  {
   "cell_type": "code",
   "execution_count": 25,
   "id": "9c208989-a0e9-4168-80b9-a685d3a72245",
   "metadata": {},
   "outputs": [],
   "source": [
    "#df=pd.read_csv(\"sampşe.csv\")\n",
    "#df=pd.read_json(\"sample.json\",encoding=\"UTF-8\")\n",
    "#df=pd.read_excel(\"sample.xlsx\")"
   ]
  },
  {
   "cell_type": "code",
   "execution_count": 26,
   "id": "463493cc-4cd2-4713-a0a0-a86984c47d79",
   "metadata": {},
   "outputs": [],
   "source": [
    "from numpy.random import randn\n",
    "import pandas as pd"
   ]
  },
  {
   "cell_type": "code",
   "execution_count": 27,
   "id": "874a4311-cc60-4a3b-9bc6-2be8a9dc84c1",
   "metadata": {},
   "outputs": [],
   "source": [
    "df=pd.DataFrame(randn(3,3), index= [\"a\",\"b\",\"c\"], columns=[\"columns1\",\"columns2\",\"columns3\"])\n",
    "#randn (3,3) 3 e 3 luk matrıs halınde -1 1 arası degerlerı verır"
   ]
  },
  {
   "cell_type": "code",
   "execution_count": 28,
   "id": "cd2b72de-8495-40ac-9d01-decb21469226",
   "metadata": {},
   "outputs": [
    {
     "name": "stdout",
     "output_type": "stream",
     "text": [
      "   columns1  columns2  columns3\n",
      "a -1.502009  1.483228 -0.514350\n",
      "b  0.210152 -0.130635 -1.163139\n",
      "c -0.789504  0.297948  0.431433\n"
     ]
    }
   ],
   "source": [
    "print(df)\n",
    "result=df\n",
    "result=df[\"columns1\"]\n",
    "result=type(df[\"columns1\"])\n"
   ]
  },
  {
   "cell_type": "code",
   "execution_count": 29,
   "id": "cb88ada2-6e71-49ec-a9e2-a73208f1b14d",
   "metadata": {},
   "outputs": [
    {
     "name": "stdout",
     "output_type": "stream",
     "text": [
      "   columns1  columns2\n",
      "a -1.502009  1.483228\n",
      "b  0.210152 -0.130635\n",
      "c -0.789504  0.297948\n"
     ]
    }
   ],
   "source": [
    "result=df[[\"columns1\",\"columns2\"]]\n",
    "print(result)\n",
    "#liste halınde verdık"
   ]
  },
  {
   "cell_type": "code",
   "execution_count": 30,
   "id": "4e3c5d82-c5e9-4f8c-9cf8-70d80fe4d3d1",
   "metadata": {},
   "outputs": [
    {
     "name": "stdout",
     "output_type": "stream",
     "text": [
      "columns1   -1.502009\n",
      "columns2    1.483228\n",
      "columns3   -0.514350\n",
      "Name: a, dtype: float64\n"
     ]
    }
   ],
   "source": [
    "result=df.loc[\"a\"]\n",
    "print(result)\n",
    "#satırı verır "
   ]
  },
  {
   "cell_type": "code",
   "execution_count": 31,
   "id": "07b5dce3-9dbc-4378-929d-750374be6597",
   "metadata": {},
   "outputs": [
    {
     "name": "stdout",
     "output_type": "stream",
     "text": [
      "<class 'pandas.core.series.Series'>\n"
     ]
    }
   ],
   "source": [
    "result=type(df.loc[\"a\"])\n",
    "print(result)\n",
    "#loc[\"row\",\"column\"] => loc[\"row\"] => loc[\":\" ,\"column\"] burada sadece kolon belırtmek ıstıyorsak   row olan kısma ıkı nokta koymalıyız"
   ]
  },
  {
   "cell_type": "code",
   "execution_count": 32,
   "id": "7feeea67-81a2-4aa8-9cca-336abf98ff45",
   "metadata": {},
   "outputs": [
    {
     "name": "stdout",
     "output_type": "stream",
     "text": [
      "a   -1.502009\n",
      "b    0.210152\n",
      "c   -0.789504\n",
      "Name: columns1, dtype: float64\n",
      "a   -1.502009\n",
      "b    0.210152\n",
      "c   -0.789504\n",
      "Name: columns1, dtype: float64\n"
     ]
    }
   ],
   "source": [
    "result=df.loc[:,\"columns1\"]\n",
    "print(result)\n",
    "result=df[\"columns1\"]\n",
    "print(result) # aynı sonucu verır"
   ]
  },
  {
   "cell_type": "code",
   "execution_count": 33,
   "id": "76eecdd7-b0f2-41ba-b314-1752fb7138bf",
   "metadata": {},
   "outputs": [
    {
     "name": "stdout",
     "output_type": "stream",
     "text": [
      "   columns1  columns2\n",
      "a -1.502009  1.483228\n",
      "b  0.210152 -0.130635\n",
      "c -0.789504  0.297948\n"
     ]
    }
   ],
   "source": [
    "result=df.loc[:,[\"columns1\",\"columns2\"]]\n",
    "print(result) #yıne lıste halınde verdık"
   ]
  },
  {
   "cell_type": "code",
   "execution_count": 34,
   "id": "2c27e7d5-ff02-4ac7-ab44-f46a606fcf78",
   "metadata": {},
   "outputs": [
    {
     "name": "stdout",
     "output_type": "stream",
     "text": [
      "   columns1  columns2\n",
      "a -1.502009  1.483228\n",
      "b  0.210152 -0.130635\n",
      "c -0.789504  0.297948\n"
     ]
    }
   ],
   "source": [
    "result=df.loc[:,\"columns1\":\"columns2\"]\n",
    "print(result) #baslangıc bıtıs dahıl\n",
    "#cok fazla kolon varsa bellı aralıktakı kolonları secmek ıstersek ıkı nokta ıle belırtırız \n",
    "#satır secmek ıstemedıgımız ıcın tum satırları dahıl etmek ıcın : kullandık"
   ]
  },
  {
   "cell_type": "code",
   "execution_count": 35,
   "id": "4a4f3871-a999-43a2-a668-53b49268eeb3",
   "metadata": {},
   "outputs": [
    {
     "name": "stdout",
     "output_type": "stream",
     "text": [
      "   columns1  columns2\n",
      "a -1.502009  1.483228\n",
      "b  0.210152 -0.130635\n",
      "c -0.789504  0.297948\n"
     ]
    }
   ],
   "source": [
    "result=df.loc[:,:\"columns2\"]\n",
    "print(result)"
   ]
  },
  {
   "cell_type": "code",
   "execution_count": 36,
   "id": "29ae5c15-c451-4ee0-a8a7-ac6a7ed4e8c9",
   "metadata": {},
   "outputs": [
    {
     "name": "stdout",
     "output_type": "stream",
     "text": [
      "   columns1  columns2\n",
      "a -1.502009  1.483228\n",
      "b  0.210152 -0.130635\n"
     ]
    }
   ],
   "source": [
    "result=df.loc[\"a\":\"b\",:\"columns2\"]\n",
    "print(result)\n",
    "# : sonrakıde dahıl olur slicing islemlerinden farklı olarak"
   ]
  },
  {
   "cell_type": "code",
   "execution_count": 37,
   "id": "c3afd157-4ab4-4fee-a78c-78aa170ac26f",
   "metadata": {},
   "outputs": [
    {
     "name": "stdout",
     "output_type": "stream",
     "text": [
      "   columns1  columns2\n",
      "a -1.502009  1.483228\n",
      "b  0.210152 -0.130635\n"
     ]
    }
   ],
   "source": [
    "result=df.loc[:\"b\",:\"columns2\"]\n",
    "print(result)"
   ]
  },
  {
   "cell_type": "code",
   "execution_count": 38,
   "id": "10815e19-6b80-499d-80f4-9ef06b954b00",
   "metadata": {},
   "outputs": [
    {
     "name": "stdout",
     "output_type": "stream",
     "text": [
      "columns1   -0.789504\n",
      "columns2    0.297948\n",
      "columns3    0.431433\n",
      "Name: c, dtype: float64\n"
     ]
    }
   ],
   "source": [
    "result=df.iloc[2] #2.ındekstekı satırı getırdı eger iloc demeyıp sadece loc deseydık hata alırdık ındeks numaralndırması sayı ıle degıl harf ıle belırttıgımız ıcın\n",
    "print(result)"
   ]
  },
  {
   "cell_type": "code",
   "execution_count": 39,
   "id": "d9bc25e8-906d-425d-a12b-f695e08132d7",
   "metadata": {},
   "outputs": [
    {
     "name": "stdout",
     "output_type": "stream",
     "text": [
      "1.4832281658496955\n"
     ]
    }
   ],
   "source": [
    "#tek hucreyı almak ıcın\n",
    "result=df.loc[\"a\",\"columns2\"]\n",
    "print(result)"
   ]
  },
  {
   "cell_type": "code",
   "execution_count": 40,
   "id": "f553c5be-ac01-46ad-82fb-948f876b13ea",
   "metadata": {},
   "outputs": [
    {
     "name": "stdout",
     "output_type": "stream",
     "text": [
      "   columns1  columns2\n",
      "a -1.502009  1.483228\n",
      "b  0.210152 -0.130635\n"
     ]
    }
   ],
   "source": [
    "result=df.loc[[\"a\",\"b\"],[\"columns1\",\"columns2\"]]\n",
    "print(result)"
   ]
  },
  {
   "cell_type": "code",
   "execution_count": 41,
   "id": "9d6c6d32-0a10-466f-8df9-50c5fee5bbd8",
   "metadata": {},
   "outputs": [
    {
     "name": "stdout",
     "output_type": "stream",
     "text": [
      "   columns1  columns2  columns3  columns4\n",
      "a -1.502009  1.483228 -0.514350 -0.162062\n",
      "b  0.210152 -0.130635 -1.163139 -0.064929\n",
      "c -0.789504  0.297948  0.431433  0.686693\n"
     ]
    }
   ],
   "source": [
    "#kolon ekleme \n",
    "df[\"columns4\"]=pd.Series(randn(3),[\"a\",\"b\",\"c\"])\n",
    "print(df)"
   ]
  },
  {
   "cell_type": "code",
   "execution_count": 42,
   "id": "f9393af8-b487-45c5-b1cb-7d84bb46df37",
   "metadata": {},
   "outputs": [
    {
     "name": "stdout",
     "output_type": "stream",
     "text": [
      "   columns1  columns2  columns3  columns4  columns5\n",
      "a -1.502009  1.483228 -0.514350 -0.162062 -0.018781\n",
      "b  0.210152 -0.130635 -1.163139 -0.064929  0.079517\n",
      "c -0.789504  0.297948  0.431433  0.686693 -0.491556\n"
     ]
    }
   ],
   "source": [
    "df[\"columns5\"]=df[\"columns1\"]+df[\"columns2\"]\n",
    "print(df)"
   ]
  },
  {
   "cell_type": "code",
   "execution_count": 44,
   "id": "46c1d516-d18f-44f7-9000-c518efd785c8",
   "metadata": {},
   "outputs": [],
   "source": [
    "#kolon sılme islemi\n",
    "#print(df.drop(\"columns5\",axis=1)) #axis degeri eksen degerını ıfade eder y eksenı ıcın 1 x eksenı ıcın 0 degerı \n",
    "#print(df) #orijinal df degerı degısmedı degısmesı ıcn bır parametre alır \n",
    "#orijinal df uzerınde bır gunelleme ıcın inplace kullanılır \n",
    "#result=df.drop(\"columns5\",axis=1,inplace=True)\n",
    "#print(result)"
   ]
  },
  {
   "cell_type": "markdown",
   "id": "5d47fc41-a199-4b4c-97ea-537e3c74b5b7",
   "metadata": {},
   "source": [
    "## data filtreleme"
   ]
  },
  {
   "cell_type": "code",
   "execution_count": 46,
   "id": "e4dc5dae-ba97-4cc0-a241-a6796a7a5159",
   "metadata": {},
   "outputs": [],
   "source": [
    "import pandas as pd \n",
    "import numpy as np "
   ]
  },
  {
   "cell_type": "code",
   "execution_count": 64,
   "id": "f5e7d258-f376-431e-8795-4678ebf655ec",
   "metadata": {},
   "outputs": [
    {
     "name": "stdout",
     "output_type": "stream",
     "text": [
      "    columns1  columns2\n",
      "10        84        99\n",
      "11        89        58\n",
      "12        38        41\n",
      "13        44        31\n",
      "14        39        85\n"
     ]
    }
   ],
   "source": [
    "data=np.random.randint(10,100,75).reshape(15,5)\n",
    "df=pd.DataFrame(data,columns=[\"columns1\",\"columns2\",\"columns3\",\"columns4\",\"columns5\"])\n",
    "result=df\n",
    "result=df.columns\n",
    "result=df.head()#ilk 5 kayıt\n",
    "result=df.head(10) #ilk 10 kauıt\n",
    "result=df.tail() # son 5 kayıt\n",
    "result=df.tail(10) # son 10 kayıt\n",
    "result=df[\"columns1\"].head() # kolon 1 in ilk 5 kayıtı\n",
    "result=df.columns1.head() #yukarıdakıyle aynı anlamda \n",
    "result=df[[\"columns1\",\"columns2\"]] #kolon secme\n",
    "result=df[[\"columns1\",\"columns2\"]].head() #ilk 5 kayıt \n",
    "resulr=df[[\"columns1\",\"columns2\"]].tail() #son 5 kayıt\n",
    "result=df[5:15][[\"columns1\",\"columns2\"]].head() #2.ilk 5 kayıt \n",
    "result=df[5:15][[\"columns1\",\"columns2\"]].tail() # 5 den 15e kadar olan kısımdakı son 5 kayıtı verır\n",
    "print(result)"
   ]
  },
  {
   "cell_type": "markdown",
   "id": "d965aa4c-adf5-4ba4-b6d8-715c84418a76",
   "metadata": {},
   "source": [
    "## filtreleme işlemi"
   ]
  },
  {
   "cell_type": "code",
   "execution_count": 80,
   "id": "917fae9f-7c93-4f33-9ba6-ec54fd39210f",
   "metadata": {},
   "outputs": [
    {
     "name": "stdout",
     "output_type": "stream",
     "text": [
      "    columns1  columns2\n",
      "0         26        19\n",
      "1         59        28\n",
      "2         11        56\n",
      "3         84        80\n",
      "4         46        40\n",
      "5         88        35\n",
      "6         18        56\n",
      "7         27        38\n",
      "8         50        16\n",
      "9         64        39\n",
      "10        84        99\n",
      "11        89        58\n",
      "12        38        41\n",
      "13        44        31\n"
     ]
    }
   ],
   "source": [
    "#result= df>50\n",
    "#print(result)\n",
    "#fitreyi df ye verirsek sadece istenilen ozellikleri gosterır\n",
    "result=df[df>50] # krıtere uymayana nan der\n",
    "result=df[\"columns1\"]>50\n",
    "result=df[df[\"columns1\"]>50] # kolonla bırlıkte satırlarıda verdı\n",
    "result=df[df[\"columns1\"]>50][[\"columns1\",\"columns2\"]] #sadece kolon 1 ve kolon 2yı verdı\n",
    "result=df[(df[\"columns1\"]>50) & (df[\"columns1\"]<70)]\n",
    "result=df[(df[\"columns1\"]>50) | (df[\"columns2\"]<70)] # | or operatoru yanı sadece bırının dogru olması yeterlıdır\n",
    "result=df[(df[\"columns1\"]>50) | (df[\"columns2\"]<70)][[\"columns1\",\"columns2\"]] # kolonları da fıltreledık\n",
    "print(result)"
   ]
  },
  {
   "cell_type": "code",
   "execution_count": 85,
   "id": "3adf6f1b-24a5-41a0-98c6-01475b227041",
   "metadata": {},
   "outputs": [
    {
     "name": "stdout",
     "output_type": "stream",
     "text": [
      "    columns1  columns2\n",
      "3         84        80\n",
      "5         88        35\n",
      "8         50        16\n",
      "9         64        39\n",
      "10        84        99\n"
     ]
    }
   ],
   "source": [
    "#query de kullanabılırız filtreleme için\n",
    "result=df.query(\"columns1 >= 50 & columns1 %2==0 \")\n",
    "result=df.query(\"columns1 >= 50 & columns1 %2==0 \")[[\"columns1\",\"columns2\"]] #kolonlarıda fıltreledık\n",
    "print(result)"
   ]
  },
  {
   "cell_type": "markdown",
   "id": "2969f67e-8b3b-4cbf-a813-be26e2010fff",
   "metadata": {},
   "source": [
    "## group by kullanımı (gruplama)"
   ]
  },
  {
   "cell_type": "code",
   "execution_count": 110,
   "id": "3d756461-fb7a-442f-807b-91713b5742bb",
   "metadata": {},
   "outputs": [],
   "source": [
    "import pandas as pd\n",
    "import numpy as np"
   ]
  },
  {
   "cell_type": "code",
   "execution_count": 115,
   "id": "fd5e6da0-2145-440c-b086-5a1ab603ca32",
   "metadata": {},
   "outputs": [
    {
     "ename": "TypeError",
     "evalue": "agg function failed [how->mean,dtype->object]",
     "output_type": "error",
     "traceback": [
      "\u001b[1;31m---------------------------------------------------------------------------\u001b[0m",
      "\u001b[1;31mTypeError\u001b[0m                                 Traceback (most recent call last)",
      "File \u001b[1;32mC:\\ProgramData\\anaconda3\\Lib\\site-packages\\pandas\\core\\groupby\\groupby.py:1874\u001b[0m, in \u001b[0;36mGroupBy._agg_py_fallback\u001b[1;34m(self, how, values, ndim, alt)\u001b[0m\n\u001b[0;32m   1873\u001b[0m \u001b[38;5;28;01mtry\u001b[39;00m:\n\u001b[1;32m-> 1874\u001b[0m     res_values \u001b[38;5;241m=\u001b[39m \u001b[38;5;28mself\u001b[39m\u001b[38;5;241m.\u001b[39mgrouper\u001b[38;5;241m.\u001b[39magg_series(ser, alt, preserve_dtype\u001b[38;5;241m=\u001b[39m\u001b[38;5;28;01mTrue\u001b[39;00m)\n\u001b[0;32m   1875\u001b[0m \u001b[38;5;28;01mexcept\u001b[39;00m \u001b[38;5;167;01mException\u001b[39;00m \u001b[38;5;28;01mas\u001b[39;00m err:\n",
      "File \u001b[1;32mC:\\ProgramData\\anaconda3\\Lib\\site-packages\\pandas\\core\\groupby\\ops.py:849\u001b[0m, in \u001b[0;36mBaseGrouper.agg_series\u001b[1;34m(self, obj, func, preserve_dtype)\u001b[0m\n\u001b[0;32m    847\u001b[0m     preserve_dtype \u001b[38;5;241m=\u001b[39m \u001b[38;5;28;01mTrue\u001b[39;00m\n\u001b[1;32m--> 849\u001b[0m result \u001b[38;5;241m=\u001b[39m \u001b[38;5;28mself\u001b[39m\u001b[38;5;241m.\u001b[39m_aggregate_series_pure_python(obj, func)\n\u001b[0;32m    851\u001b[0m \u001b[38;5;28;01mif\u001b[39;00m \u001b[38;5;28mlen\u001b[39m(obj) \u001b[38;5;241m==\u001b[39m \u001b[38;5;241m0\u001b[39m \u001b[38;5;129;01mand\u001b[39;00m \u001b[38;5;28mlen\u001b[39m(result) \u001b[38;5;241m==\u001b[39m \u001b[38;5;241m0\u001b[39m \u001b[38;5;129;01mand\u001b[39;00m \u001b[38;5;28misinstance\u001b[39m(obj\u001b[38;5;241m.\u001b[39mdtype, ExtensionDtype):\n",
      "File \u001b[1;32mC:\\ProgramData\\anaconda3\\Lib\\site-packages\\pandas\\core\\groupby\\ops.py:877\u001b[0m, in \u001b[0;36mBaseGrouper._aggregate_series_pure_python\u001b[1;34m(self, obj, func)\u001b[0m\n\u001b[0;32m    876\u001b[0m \u001b[38;5;28;01mfor\u001b[39;00m i, group \u001b[38;5;129;01min\u001b[39;00m \u001b[38;5;28menumerate\u001b[39m(splitter):\n\u001b[1;32m--> 877\u001b[0m     res \u001b[38;5;241m=\u001b[39m func(group)\n\u001b[0;32m    878\u001b[0m     res \u001b[38;5;241m=\u001b[39m extract_result(res)\n",
      "File \u001b[1;32mC:\\ProgramData\\anaconda3\\Lib\\site-packages\\pandas\\core\\groupby\\groupby.py:2380\u001b[0m, in \u001b[0;36mGroupBy.mean.<locals>.<lambda>\u001b[1;34m(x)\u001b[0m\n\u001b[0;32m   2377\u001b[0m \u001b[38;5;28;01melse\u001b[39;00m:\n\u001b[0;32m   2378\u001b[0m     result \u001b[38;5;241m=\u001b[39m \u001b[38;5;28mself\u001b[39m\u001b[38;5;241m.\u001b[39m_cython_agg_general(\n\u001b[0;32m   2379\u001b[0m         \u001b[38;5;124m\"\u001b[39m\u001b[38;5;124mmean\u001b[39m\u001b[38;5;124m\"\u001b[39m,\n\u001b[1;32m-> 2380\u001b[0m         alt\u001b[38;5;241m=\u001b[39m\u001b[38;5;28;01mlambda\u001b[39;00m x: Series(x)\u001b[38;5;241m.\u001b[39mmean(numeric_only\u001b[38;5;241m=\u001b[39mnumeric_only),\n\u001b[0;32m   2381\u001b[0m         numeric_only\u001b[38;5;241m=\u001b[39mnumeric_only,\n\u001b[0;32m   2382\u001b[0m     )\n\u001b[0;32m   2383\u001b[0m     \u001b[38;5;28;01mreturn\u001b[39;00m result\u001b[38;5;241m.\u001b[39m__finalize__(\u001b[38;5;28mself\u001b[39m\u001b[38;5;241m.\u001b[39mobj, method\u001b[38;5;241m=\u001b[39m\u001b[38;5;124m\"\u001b[39m\u001b[38;5;124mgroupby\u001b[39m\u001b[38;5;124m\"\u001b[39m)\n",
      "File \u001b[1;32mC:\\ProgramData\\anaconda3\\Lib\\site-packages\\pandas\\core\\series.py:6225\u001b[0m, in \u001b[0;36mSeries.mean\u001b[1;34m(self, axis, skipna, numeric_only, **kwargs)\u001b[0m\n\u001b[0;32m   6217\u001b[0m \u001b[38;5;129m@doc\u001b[39m(make_doc(\u001b[38;5;124m\"\u001b[39m\u001b[38;5;124mmean\u001b[39m\u001b[38;5;124m\"\u001b[39m, ndim\u001b[38;5;241m=\u001b[39m\u001b[38;5;241m1\u001b[39m))\n\u001b[0;32m   6218\u001b[0m \u001b[38;5;28;01mdef\u001b[39;00m \u001b[38;5;21mmean\u001b[39m(\n\u001b[0;32m   6219\u001b[0m     \u001b[38;5;28mself\u001b[39m,\n\u001b[1;32m   (...)\u001b[0m\n\u001b[0;32m   6223\u001b[0m     \u001b[38;5;241m*\u001b[39m\u001b[38;5;241m*\u001b[39mkwargs,\n\u001b[0;32m   6224\u001b[0m ):\n\u001b[1;32m-> 6225\u001b[0m     \u001b[38;5;28;01mreturn\u001b[39;00m NDFrame\u001b[38;5;241m.\u001b[39mmean(\u001b[38;5;28mself\u001b[39m, axis, skipna, numeric_only, \u001b[38;5;241m*\u001b[39m\u001b[38;5;241m*\u001b[39mkwargs)\n",
      "File \u001b[1;32mC:\\ProgramData\\anaconda3\\Lib\\site-packages\\pandas\\core\\generic.py:11992\u001b[0m, in \u001b[0;36mNDFrame.mean\u001b[1;34m(self, axis, skipna, numeric_only, **kwargs)\u001b[0m\n\u001b[0;32m  11985\u001b[0m \u001b[38;5;28;01mdef\u001b[39;00m \u001b[38;5;21mmean\u001b[39m(\n\u001b[0;32m  11986\u001b[0m     \u001b[38;5;28mself\u001b[39m,\n\u001b[0;32m  11987\u001b[0m     axis: Axis \u001b[38;5;241m|\u001b[39m \u001b[38;5;28;01mNone\u001b[39;00m \u001b[38;5;241m=\u001b[39m \u001b[38;5;241m0\u001b[39m,\n\u001b[1;32m   (...)\u001b[0m\n\u001b[0;32m  11990\u001b[0m     \u001b[38;5;241m*\u001b[39m\u001b[38;5;241m*\u001b[39mkwargs,\n\u001b[0;32m  11991\u001b[0m ) \u001b[38;5;241m-\u001b[39m\u001b[38;5;241m>\u001b[39m Series \u001b[38;5;241m|\u001b[39m \u001b[38;5;28mfloat\u001b[39m:\n\u001b[1;32m> 11992\u001b[0m     \u001b[38;5;28;01mreturn\u001b[39;00m \u001b[38;5;28mself\u001b[39m\u001b[38;5;241m.\u001b[39m_stat_function(\n\u001b[0;32m  11993\u001b[0m         \u001b[38;5;124m\"\u001b[39m\u001b[38;5;124mmean\u001b[39m\u001b[38;5;124m\"\u001b[39m, nanops\u001b[38;5;241m.\u001b[39mnanmean, axis, skipna, numeric_only, \u001b[38;5;241m*\u001b[39m\u001b[38;5;241m*\u001b[39mkwargs\n\u001b[0;32m  11994\u001b[0m     )\n",
      "File \u001b[1;32mC:\\ProgramData\\anaconda3\\Lib\\site-packages\\pandas\\core\\generic.py:11949\u001b[0m, in \u001b[0;36mNDFrame._stat_function\u001b[1;34m(self, name, func, axis, skipna, numeric_only, **kwargs)\u001b[0m\n\u001b[0;32m  11947\u001b[0m validate_bool_kwarg(skipna, \u001b[38;5;124m\"\u001b[39m\u001b[38;5;124mskipna\u001b[39m\u001b[38;5;124m\"\u001b[39m, none_allowed\u001b[38;5;241m=\u001b[39m\u001b[38;5;28;01mFalse\u001b[39;00m)\n\u001b[1;32m> 11949\u001b[0m \u001b[38;5;28;01mreturn\u001b[39;00m \u001b[38;5;28mself\u001b[39m\u001b[38;5;241m.\u001b[39m_reduce(\n\u001b[0;32m  11950\u001b[0m     func, name\u001b[38;5;241m=\u001b[39mname, axis\u001b[38;5;241m=\u001b[39maxis, skipna\u001b[38;5;241m=\u001b[39mskipna, numeric_only\u001b[38;5;241m=\u001b[39mnumeric_only\n\u001b[0;32m  11951\u001b[0m )\n",
      "File \u001b[1;32mC:\\ProgramData\\anaconda3\\Lib\\site-packages\\pandas\\core\\series.py:6133\u001b[0m, in \u001b[0;36mSeries._reduce\u001b[1;34m(self, op, name, axis, skipna, numeric_only, filter_type, **kwds)\u001b[0m\n\u001b[0;32m   6129\u001b[0m     \u001b[38;5;28;01mraise\u001b[39;00m \u001b[38;5;167;01mTypeError\u001b[39;00m(\n\u001b[0;32m   6130\u001b[0m         \u001b[38;5;124mf\u001b[39m\u001b[38;5;124m\"\u001b[39m\u001b[38;5;124mSeries.\u001b[39m\u001b[38;5;132;01m{\u001b[39;00mname\u001b[38;5;132;01m}\u001b[39;00m\u001b[38;5;124m does not allow \u001b[39m\u001b[38;5;132;01m{\u001b[39;00mkwd_name\u001b[38;5;132;01m}\u001b[39;00m\u001b[38;5;124m=\u001b[39m\u001b[38;5;132;01m{\u001b[39;00mnumeric_only\u001b[38;5;132;01m}\u001b[39;00m\u001b[38;5;124m \u001b[39m\u001b[38;5;124m\"\u001b[39m\n\u001b[0;32m   6131\u001b[0m         \u001b[38;5;124m\"\u001b[39m\u001b[38;5;124mwith non-numeric dtypes.\u001b[39m\u001b[38;5;124m\"\u001b[39m\n\u001b[0;32m   6132\u001b[0m     )\n\u001b[1;32m-> 6133\u001b[0m \u001b[38;5;28;01mreturn\u001b[39;00m op(delegate, skipna\u001b[38;5;241m=\u001b[39mskipna, \u001b[38;5;241m*\u001b[39m\u001b[38;5;241m*\u001b[39mkwds)\n",
      "File \u001b[1;32mC:\\ProgramData\\anaconda3\\Lib\\site-packages\\pandas\\core\\nanops.py:147\u001b[0m, in \u001b[0;36mbottleneck_switch.__call__.<locals>.f\u001b[1;34m(values, axis, skipna, **kwds)\u001b[0m\n\u001b[0;32m    146\u001b[0m \u001b[38;5;28;01melse\u001b[39;00m:\n\u001b[1;32m--> 147\u001b[0m     result \u001b[38;5;241m=\u001b[39m alt(values, axis\u001b[38;5;241m=\u001b[39maxis, skipna\u001b[38;5;241m=\u001b[39mskipna, \u001b[38;5;241m*\u001b[39m\u001b[38;5;241m*\u001b[39mkwds)\n\u001b[0;32m    149\u001b[0m \u001b[38;5;28;01mreturn\u001b[39;00m result\n",
      "File \u001b[1;32mC:\\ProgramData\\anaconda3\\Lib\\site-packages\\pandas\\core\\nanops.py:404\u001b[0m, in \u001b[0;36m_datetimelike_compat.<locals>.new_func\u001b[1;34m(values, axis, skipna, mask, **kwargs)\u001b[0m\n\u001b[0;32m    402\u001b[0m     mask \u001b[38;5;241m=\u001b[39m isna(values)\n\u001b[1;32m--> 404\u001b[0m result \u001b[38;5;241m=\u001b[39m func(values, axis\u001b[38;5;241m=\u001b[39maxis, skipna\u001b[38;5;241m=\u001b[39mskipna, mask\u001b[38;5;241m=\u001b[39mmask, \u001b[38;5;241m*\u001b[39m\u001b[38;5;241m*\u001b[39mkwargs)\n\u001b[0;32m    406\u001b[0m \u001b[38;5;28;01mif\u001b[39;00m datetimelike:\n",
      "File \u001b[1;32mC:\\ProgramData\\anaconda3\\Lib\\site-packages\\pandas\\core\\nanops.py:720\u001b[0m, in \u001b[0;36mnanmean\u001b[1;34m(values, axis, skipna, mask)\u001b[0m\n\u001b[0;32m    719\u001b[0m the_sum \u001b[38;5;241m=\u001b[39m values\u001b[38;5;241m.\u001b[39msum(axis, dtype\u001b[38;5;241m=\u001b[39mdtype_sum)\n\u001b[1;32m--> 720\u001b[0m the_sum \u001b[38;5;241m=\u001b[39m _ensure_numeric(the_sum)\n\u001b[0;32m    722\u001b[0m \u001b[38;5;28;01mif\u001b[39;00m axis \u001b[38;5;129;01mis\u001b[39;00m \u001b[38;5;129;01mnot\u001b[39;00m \u001b[38;5;28;01mNone\u001b[39;00m \u001b[38;5;129;01mand\u001b[39;00m \u001b[38;5;28mgetattr\u001b[39m(the_sum, \u001b[38;5;124m\"\u001b[39m\u001b[38;5;124mndim\u001b[39m\u001b[38;5;124m\"\u001b[39m, \u001b[38;5;28;01mFalse\u001b[39;00m):\n",
      "File \u001b[1;32mC:\\ProgramData\\anaconda3\\Lib\\site-packages\\pandas\\core\\nanops.py:1693\u001b[0m, in \u001b[0;36m_ensure_numeric\u001b[1;34m(x)\u001b[0m\n\u001b[0;32m   1691\u001b[0m \u001b[38;5;28;01mif\u001b[39;00m \u001b[38;5;28misinstance\u001b[39m(x, \u001b[38;5;28mstr\u001b[39m):\n\u001b[0;32m   1692\u001b[0m     \u001b[38;5;66;03m# GH#44008, GH#36703 avoid casting e.g. strings to numeric\u001b[39;00m\n\u001b[1;32m-> 1693\u001b[0m     \u001b[38;5;28;01mraise\u001b[39;00m \u001b[38;5;167;01mTypeError\u001b[39;00m(\u001b[38;5;124mf\u001b[39m\u001b[38;5;124m\"\u001b[39m\u001b[38;5;124mCould not convert string \u001b[39m\u001b[38;5;124m'\u001b[39m\u001b[38;5;132;01m{\u001b[39;00mx\u001b[38;5;132;01m}\u001b[39;00m\u001b[38;5;124m'\u001b[39m\u001b[38;5;124m to numeric\u001b[39m\u001b[38;5;124m\"\u001b[39m)\n\u001b[0;32m   1694\u001b[0m \u001b[38;5;28;01mtry\u001b[39;00m:\n",
      "\u001b[1;31mTypeError\u001b[0m: Could not convert string 'Can ErtürkAli Turan' to numeric",
      "\nThe above exception was the direct cause of the following exception:\n",
      "\u001b[1;31mTypeError\u001b[0m                                 Traceback (most recent call last)",
      "Cell \u001b[1;32mIn[115], line 22\u001b[0m\n\u001b[0;32m     20\u001b[0m result\u001b[38;5;241m=\u001b[39mdf\u001b[38;5;241m.\u001b[39mgroupby(\u001b[38;5;124m\"\u001b[39m\u001b[38;5;124mDepartman\u001b[39m\u001b[38;5;124m\"\u001b[39m)\u001b[38;5;241m.\u001b[39mget_group(\u001b[38;5;124m\"\u001b[39m\u001b[38;5;124mMuhasebe\u001b[39m\u001b[38;5;124m\"\u001b[39m)\n\u001b[0;32m     21\u001b[0m result\u001b[38;5;241m=\u001b[39mdf\u001b[38;5;241m.\u001b[39mgroupby(\u001b[38;5;124m\"\u001b[39m\u001b[38;5;124mDepartman\u001b[39m\u001b[38;5;124m\"\u001b[39m)\u001b[38;5;241m.\u001b[39msum()\n\u001b[1;32m---> 22\u001b[0m result\u001b[38;5;241m=\u001b[39mdf\u001b[38;5;241m.\u001b[39mgroupby(\u001b[38;5;124m\"\u001b[39m\u001b[38;5;124mDepartman\u001b[39m\u001b[38;5;124m\"\u001b[39m)\u001b[38;5;241m.\u001b[39mmean()\n\u001b[0;32m     23\u001b[0m result\u001b[38;5;241m=\u001b[39mdf\u001b[38;5;241m.\u001b[39mgroupby(\u001b[38;5;124m\"\u001b[39m\u001b[38;5;124mDepartman\u001b[39m\u001b[38;5;124m\"\u001b[39m)[\u001b[38;5;124m\"\u001b[39m\u001b[38;5;124mMaaş\u001b[39m\u001b[38;5;124m\"\u001b[39m]\u001b[38;5;241m.\u001b[39mmean()\n\u001b[0;32m     24\u001b[0m result\u001b[38;5;241m=\u001b[39mdf\u001b[38;5;241m.\u001b[39mgrupby(\u001b[38;5;124m\"\u001b[39m\u001b[38;5;124mSemt\u001b[39m\u001b[38;5;124m\"\u001b[39m)[\u001b[38;5;124m\"\u001b[39m\u001b[38;5;124mYaş\u001b[39m\u001b[38;5;124m\"\u001b[39m]\u001b[38;5;241m.\u001b[39mmean()\n",
      "File \u001b[1;32mC:\\ProgramData\\anaconda3\\Lib\\site-packages\\pandas\\core\\groupby\\groupby.py:2378\u001b[0m, in \u001b[0;36mGroupBy.mean\u001b[1;34m(self, numeric_only, engine, engine_kwargs)\u001b[0m\n\u001b[0;32m   2371\u001b[0m     \u001b[38;5;28;01mreturn\u001b[39;00m \u001b[38;5;28mself\u001b[39m\u001b[38;5;241m.\u001b[39m_numba_agg_general(\n\u001b[0;32m   2372\u001b[0m         grouped_mean,\n\u001b[0;32m   2373\u001b[0m         executor\u001b[38;5;241m.\u001b[39mfloat_dtype_mapping,\n\u001b[0;32m   2374\u001b[0m         engine_kwargs,\n\u001b[0;32m   2375\u001b[0m         min_periods\u001b[38;5;241m=\u001b[39m\u001b[38;5;241m0\u001b[39m,\n\u001b[0;32m   2376\u001b[0m     )\n\u001b[0;32m   2377\u001b[0m \u001b[38;5;28;01melse\u001b[39;00m:\n\u001b[1;32m-> 2378\u001b[0m     result \u001b[38;5;241m=\u001b[39m \u001b[38;5;28mself\u001b[39m\u001b[38;5;241m.\u001b[39m_cython_agg_general(\n\u001b[0;32m   2379\u001b[0m         \u001b[38;5;124m\"\u001b[39m\u001b[38;5;124mmean\u001b[39m\u001b[38;5;124m\"\u001b[39m,\n\u001b[0;32m   2380\u001b[0m         alt\u001b[38;5;241m=\u001b[39m\u001b[38;5;28;01mlambda\u001b[39;00m x: Series(x)\u001b[38;5;241m.\u001b[39mmean(numeric_only\u001b[38;5;241m=\u001b[39mnumeric_only),\n\u001b[0;32m   2381\u001b[0m         numeric_only\u001b[38;5;241m=\u001b[39mnumeric_only,\n\u001b[0;32m   2382\u001b[0m     )\n\u001b[0;32m   2383\u001b[0m     \u001b[38;5;28;01mreturn\u001b[39;00m result\u001b[38;5;241m.\u001b[39m__finalize__(\u001b[38;5;28mself\u001b[39m\u001b[38;5;241m.\u001b[39mobj, method\u001b[38;5;241m=\u001b[39m\u001b[38;5;124m\"\u001b[39m\u001b[38;5;124mgroupby\u001b[39m\u001b[38;5;124m\"\u001b[39m)\n",
      "File \u001b[1;32mC:\\ProgramData\\anaconda3\\Lib\\site-packages\\pandas\\core\\groupby\\groupby.py:1929\u001b[0m, in \u001b[0;36mGroupBy._cython_agg_general\u001b[1;34m(self, how, alt, numeric_only, min_count, **kwargs)\u001b[0m\n\u001b[0;32m   1926\u001b[0m     result \u001b[38;5;241m=\u001b[39m \u001b[38;5;28mself\u001b[39m\u001b[38;5;241m.\u001b[39m_agg_py_fallback(how, values, ndim\u001b[38;5;241m=\u001b[39mdata\u001b[38;5;241m.\u001b[39mndim, alt\u001b[38;5;241m=\u001b[39malt)\n\u001b[0;32m   1927\u001b[0m     \u001b[38;5;28;01mreturn\u001b[39;00m result\n\u001b[1;32m-> 1929\u001b[0m new_mgr \u001b[38;5;241m=\u001b[39m data\u001b[38;5;241m.\u001b[39mgrouped_reduce(array_func)\n\u001b[0;32m   1930\u001b[0m res \u001b[38;5;241m=\u001b[39m \u001b[38;5;28mself\u001b[39m\u001b[38;5;241m.\u001b[39m_wrap_agged_manager(new_mgr)\n\u001b[0;32m   1931\u001b[0m out \u001b[38;5;241m=\u001b[39m \u001b[38;5;28mself\u001b[39m\u001b[38;5;241m.\u001b[39m_wrap_aggregated_output(res)\n",
      "File \u001b[1;32mC:\\ProgramData\\anaconda3\\Lib\\site-packages\\pandas\\core\\internals\\managers.py:1428\u001b[0m, in \u001b[0;36mBlockManager.grouped_reduce\u001b[1;34m(self, func)\u001b[0m\n\u001b[0;32m   1424\u001b[0m \u001b[38;5;28;01mif\u001b[39;00m blk\u001b[38;5;241m.\u001b[39mis_object:\n\u001b[0;32m   1425\u001b[0m     \u001b[38;5;66;03m# split on object-dtype blocks bc some columns may raise\u001b[39;00m\n\u001b[0;32m   1426\u001b[0m     \u001b[38;5;66;03m#  while others do not.\u001b[39;00m\n\u001b[0;32m   1427\u001b[0m     \u001b[38;5;28;01mfor\u001b[39;00m sb \u001b[38;5;129;01min\u001b[39;00m blk\u001b[38;5;241m.\u001b[39m_split():\n\u001b[1;32m-> 1428\u001b[0m         applied \u001b[38;5;241m=\u001b[39m sb\u001b[38;5;241m.\u001b[39mapply(func)\n\u001b[0;32m   1429\u001b[0m         result_blocks \u001b[38;5;241m=\u001b[39m extend_blocks(applied, result_blocks)\n\u001b[0;32m   1430\u001b[0m \u001b[38;5;28;01melse\u001b[39;00m:\n",
      "File \u001b[1;32mC:\\ProgramData\\anaconda3\\Lib\\site-packages\\pandas\\core\\internals\\blocks.py:366\u001b[0m, in \u001b[0;36mBlock.apply\u001b[1;34m(self, func, **kwargs)\u001b[0m\n\u001b[0;32m    360\u001b[0m \u001b[38;5;129m@final\u001b[39m\n\u001b[0;32m    361\u001b[0m \u001b[38;5;28;01mdef\u001b[39;00m \u001b[38;5;21mapply\u001b[39m(\u001b[38;5;28mself\u001b[39m, func, \u001b[38;5;241m*\u001b[39m\u001b[38;5;241m*\u001b[39mkwargs) \u001b[38;5;241m-\u001b[39m\u001b[38;5;241m>\u001b[39m \u001b[38;5;28mlist\u001b[39m[Block]:\n\u001b[0;32m    362\u001b[0m \u001b[38;5;250m    \u001b[39m\u001b[38;5;124;03m\"\"\"\u001b[39;00m\n\u001b[0;32m    363\u001b[0m \u001b[38;5;124;03m    apply the function to my values; return a block if we are not\u001b[39;00m\n\u001b[0;32m    364\u001b[0m \u001b[38;5;124;03m    one\u001b[39;00m\n\u001b[0;32m    365\u001b[0m \u001b[38;5;124;03m    \"\"\"\u001b[39;00m\n\u001b[1;32m--> 366\u001b[0m     result \u001b[38;5;241m=\u001b[39m func(\u001b[38;5;28mself\u001b[39m\u001b[38;5;241m.\u001b[39mvalues, \u001b[38;5;241m*\u001b[39m\u001b[38;5;241m*\u001b[39mkwargs)\n\u001b[0;32m    368\u001b[0m     result \u001b[38;5;241m=\u001b[39m maybe_coerce_values(result)\n\u001b[0;32m    369\u001b[0m     \u001b[38;5;28;01mreturn\u001b[39;00m \u001b[38;5;28mself\u001b[39m\u001b[38;5;241m.\u001b[39m_split_op_result(result)\n",
      "File \u001b[1;32mC:\\ProgramData\\anaconda3\\Lib\\site-packages\\pandas\\core\\groupby\\groupby.py:1926\u001b[0m, in \u001b[0;36mGroupBy._cython_agg_general.<locals>.array_func\u001b[1;34m(values)\u001b[0m\n\u001b[0;32m   1923\u001b[0m \u001b[38;5;28;01melse\u001b[39;00m:\n\u001b[0;32m   1924\u001b[0m     \u001b[38;5;28;01mreturn\u001b[39;00m result\n\u001b[1;32m-> 1926\u001b[0m result \u001b[38;5;241m=\u001b[39m \u001b[38;5;28mself\u001b[39m\u001b[38;5;241m.\u001b[39m_agg_py_fallback(how, values, ndim\u001b[38;5;241m=\u001b[39mdata\u001b[38;5;241m.\u001b[39mndim, alt\u001b[38;5;241m=\u001b[39malt)\n\u001b[0;32m   1927\u001b[0m \u001b[38;5;28;01mreturn\u001b[39;00m result\n",
      "File \u001b[1;32mC:\\ProgramData\\anaconda3\\Lib\\site-packages\\pandas\\core\\groupby\\groupby.py:1878\u001b[0m, in \u001b[0;36mGroupBy._agg_py_fallback\u001b[1;34m(self, how, values, ndim, alt)\u001b[0m\n\u001b[0;32m   1876\u001b[0m     msg \u001b[38;5;241m=\u001b[39m \u001b[38;5;124mf\u001b[39m\u001b[38;5;124m\"\u001b[39m\u001b[38;5;124magg function failed [how->\u001b[39m\u001b[38;5;132;01m{\u001b[39;00mhow\u001b[38;5;132;01m}\u001b[39;00m\u001b[38;5;124m,dtype->\u001b[39m\u001b[38;5;132;01m{\u001b[39;00mser\u001b[38;5;241m.\u001b[39mdtype\u001b[38;5;132;01m}\u001b[39;00m\u001b[38;5;124m]\u001b[39m\u001b[38;5;124m\"\u001b[39m\n\u001b[0;32m   1877\u001b[0m     \u001b[38;5;66;03m# preserve the kind of exception that raised\u001b[39;00m\n\u001b[1;32m-> 1878\u001b[0m     \u001b[38;5;28;01mraise\u001b[39;00m \u001b[38;5;28mtype\u001b[39m(err)(msg) \u001b[38;5;28;01mfrom\u001b[39;00m \u001b[38;5;21;01merr\u001b[39;00m\n\u001b[0;32m   1880\u001b[0m \u001b[38;5;28;01mif\u001b[39;00m ser\u001b[38;5;241m.\u001b[39mdtype \u001b[38;5;241m==\u001b[39m \u001b[38;5;28mobject\u001b[39m:\n\u001b[0;32m   1881\u001b[0m     res_values \u001b[38;5;241m=\u001b[39m res_values\u001b[38;5;241m.\u001b[39mastype(\u001b[38;5;28mobject\u001b[39m, copy\u001b[38;5;241m=\u001b[39m\u001b[38;5;28;01mFalse\u001b[39;00m)\n",
      "\u001b[1;31mTypeError\u001b[0m: agg function failed [how->mean,dtype->object]"
     ]
    }
   ],
   "source": [
    "personeller={\n",
    "    \"Çalışan\":[\"Ahmet Yılmaz\",\"Can Ertürk\",\"Hasan Korkmaz\",\"Cenk Saymaz\",\"Ali Turan\",\"Rıza Ertürk\",\"Mustafa Can\"],\n",
    "    \"Departman\":[\"İnsan Kaynaklari\",\"Bilgi İşlem\",\"Muhasebe\",\"İnsan Kaynaklari\",\"Bilgi İşlem\",\"Muhasebe\",\"İnsan Kaynakları\"],\n",
    "    \"Yaş\":[30,25,45,50,23,34,42],\n",
    "    \"Semt\":[\"Kadikoy\",\"Tuzla\",\"Maltepe\",\"Tuzla\",\"Maltepe\",\"Tuzla\",\"Kadikoy\"],\n",
    "    \"Maaş\":[5000,3000,4000,3500,2750,6500,4500]\n",
    "}\n",
    "df=pd.DataFrame(personeller)\n",
    "result=df[\"Maaş\"].sum()\n",
    "result=df.groupby(\"Departman\")# yaparsak sadece gerıye obje dondurud hafızafakı yerıyle bırlıkte\n",
    "result=df.groupby(\"Departman\").groups # gruplama ıslemı yaptık ınsan kaynaklarının hangı ındekse sahıp oldugunu verdı ornegın\n",
    "result=df.groupby([\"Departman\",\"Semt\"]).groups\n",
    "semtler=df.groupby(\"Semt\")\n",
    "#for name ,group in semtler:\n",
    "    #print(name)\n",
    "    #print(group)\n",
    "#print(result)\n",
    "#Bu kod bloğu, her semtteki çalışanların gruplarını sırayla yazdırır.\n",
    "#name değişkeni, grubun adını (yani semtin adını) ve group değişkeni ise o semtte çalışan çalışanların DataFrame'ini içerir\n",
    "result=df.groupby(\"Departman\").get_group(\"Muhasebe\")\n",
    "result=df.groupby(\"Departman\").sum()\n",
    "result=df.groupby(\"Departman\").mean()\n",
    "result=df.groupby(\"Departman\")[\"Maaş\"].mean()\n",
    "result=df.grupby(\"Semt\")[\"Yaş\"].mean()\n",
    "result=df.grupby(\"Semt\")[\"Çalışan\"].count() # semtlerdekı calısanların sayılarını verır \n",
    "result=df.grupby(\"Semt\")[\"Yaş\"].max()\n",
    "#yukarıda lıste verır \n",
    "#tek  bir deger için ise\n",
    "result=df.grupby(\"Departman\")[\"Maaş\"].max()[\"Muhasebe\"]\n",
    "result=df.groupby(\"Departman\").agg(np.mean) # agg ile hesaplama yapabılırız\n",
    "result=df.groupby(\"Departman\")[\"Maaş\"].agg([np.sum,np.mean,np.max,np.min])\n",
    "result=df.groupby(\"Departman\")[\"Maaş\"].agg([np.sum,np.mean,np.max,np.min]).loc[\"Muhasebe\"]\n",
    "print(result)"
   ]
  },
  {
   "cell_type": "markdown",
   "id": "fb18d32c-acb5-49be-abda-2a621a442b8c",
   "metadata": {},
   "source": [
    "## kayıp ve bozuk verıler"
   ]
  },
  {
   "cell_type": "code",
   "execution_count": 158,
   "id": "6c24be6c-369f-43b6-9394-47b6056a62f1",
   "metadata": {},
   "outputs": [
    {
     "name": "stdout",
     "output_type": "stream",
     "text": [
      "     column1    column2    column3    column4\n",
      "a  24.000000  80.000000  44.000000  44.210526\n",
      "b  44.210526  44.210526  44.210526  30.000000\n",
      "c  70.000000  11.000000  37.000000  44.210526\n",
      "d  44.210526  44.210526  44.210526  51.000000\n",
      "e  42.000000  66.000000  30.000000  44.210526\n",
      "f  23.000000  56.000000  74.000000  30.000000\n",
      "g  44.210526  44.210526  44.210526  44.210526\n",
      "h  28.000000  63.000000  71.000000  10.000000\n"
     ]
    }
   ],
   "source": [
    "import pandas as pd\n",
    "import numpy as np \n",
    "data=np.random.randint(10,100,15).reshape(5,3)\n",
    "df=pd.DataFrame(data,index=[\"a\",\"c\",\"e\",\"f\",\"h\"],columns=[\"column1\",\"column2\",\"column3\"])\n",
    "df=df.reindex([\"a\",\"b\",\"c\",\"d\",\"e\",\"f\",\"g\",\"h\"])\n",
    "result=df\n",
    "result=df.drop(\"column1\",axis=1)\n",
    "result=df.drop([\"column1\",\"column2\"],axis=1)\n",
    "result=df.drop(\"a\",axis=0)\n",
    "result=df.drop([\"a\",\"b\"],axis=0)\n",
    "# İSNULL KULLANIMI\n",
    "result=df.isnull() #null olanları true gosterır\n",
    "result=df.notnull() #null olmayanları true verır\n",
    "result=df.isnull().sum() # null olmayanların toplam sayısı \n",
    "result=df[\"column1\"].isnull()\n",
    "newColumn=[np.nan,30,np.nan,51,np.nan,30,np.nan,10]\n",
    "df[\"column4\"]=newColumn\n",
    "result=df[df[\"column1\"].isnull()]\n",
    "result=df[df[\"column1\"].isnull()][\"column1\"]\n",
    "result=df[df[\"column1\"].notnull()][\"column1\"]\n",
    "result=df.dropna()#nan varsa sıler satıra gore (axis=0)\n",
    "result=df.dropna(axis=1) # sutuna gore \n",
    "#sadece 1 tane olsa bıle dırek o satırı sıler \n",
    "result=df.dropna(how=\"all\") # tum satır nan ıse anca o zaman satırı sıler\n",
    "result=df.dropna(subset=[\"column1\",\"column2\"]) # sadece belırttıgımız kolonlardakı nanları sıl\n",
    "result=df.dropna(subset=[\"column1\",\"column2\"],how=\"all\") # 2 kolondada nan varsa sıler \n",
    "result=df.dropna(subset=[\"column1\",\"column2\"],how=\"any\") # herhangı bırınde nan varsa sıler\n",
    "#belırtıgımız sayıda normal verıvarsa  o kayıtarı sılmez thresh de yanı en az sayıda normal verı =thresh\n",
    "result=df.dropna(thresh=2)\n",
    "result=df.dropna(thresh=3) # 1tane nan kabul edılebılır\n",
    "result=df.fillna(value=\"no input\")\n",
    "result=df.fillna(value=1)\n",
    "result=df.sum()\n",
    "result=df.sum().sum() #df dekı toplamı verır\n",
    "result=df.size # eleman sayısını verır\n",
    "result=df.isnull().sum().sum() # dfdekı nan olanların toplam sayısını verır\n",
    "def ortalama(df):\n",
    "    toplam=df.sum().sum()\n",
    "    adet=df.size-df.isnull().sum().sum()\n",
    "    return toplam/adet\n",
    "result=df.fillna(value=ortalama(df))  \n",
    "print(result)"
   ]
  },
  {
   "cell_type": "code",
   "execution_count": 176,
   "id": "4fb23b8b-7fa0-4a4b-8c65-3307893ee051",
   "metadata": {},
   "outputs": [
    {
     "name": "stdout",
     "output_type": "stream",
     "text": [
      "                     name  year_start  year_end position height  weight  \\\n",
      "0          Alaa Abdelnaby        1991      1995      F-C   6-10   240.0   \n",
      "1         Zaid Abdul-Aziz        1969      1978      C-F    6-9   235.0   \n",
      "2     Kareem Abdul-Jabbar        1970      1989        C    7-2   225.0   \n",
      "3      Mahmoud Abdul-Rauf        1991      2001        G    6-1   162.0   \n",
      "4       Tariq Abdul-Wahad        1998      2003        F    6-6   223.0   \n",
      "...                   ...         ...       ...      ...    ...     ...   \n",
      "4542    Derrick Zimmerman        2006      2006        G    6-3   195.0   \n",
      "4543    Stephen Zimmerman        2017      2017        C    7-0   240.0   \n",
      "4546             Jim Zoet        1983      1983        C    7-1   240.0   \n",
      "4547            Bill Zopf        1971      1971        G    6-1   170.0   \n",
      "4549           Matt Zunic        1949      1949      G-F    6-3   195.0   \n",
      "\n",
      "             birth_date                                college  index  \\\n",
      "0         June 24, 1968                        Duke University      2   \n",
      "1         April 7, 1946                  Iowa State University      1   \n",
      "2        April 16, 1947  University of California, Los Angeles      1   \n",
      "3         March 9, 1969             Louisiana State University      1   \n",
      "4      November 3, 1974              San Jose State University      1   \n",
      "...                 ...                                    ...    ...   \n",
      "4542   December 2, 1981           Mississippi State University     15   \n",
      "4543  September 9, 1996        University of Nevada, Las Vegas     15   \n",
      "4546  December 20, 1953                  Kent State University     -1   \n",
      "4547       June 7, 1948                    Duquesne University     -1   \n",
      "4549  December 19, 1919           George Washington University      1   \n",
      "\n",
      "     firstName      lastName  \n",
      "0         Alaa     Abdelnaby  \n",
      "1         Zaid    Abdul-Aziz  \n",
      "2       Kareem  Abdul-Jabbar  \n",
      "3      Mahmoud    Abdul-Rauf  \n",
      "4        Tariq   Abdul-Wahad  \n",
      "...        ...           ...  \n",
      "4542   Derrick     Zimmerman  \n",
      "4543   Stephen     Zimmerman  \n",
      "4546       Jim          Zoet  \n",
      "4547      Bill          Zopf  \n",
      "4549      Matt         Zunic  \n",
      "\n",
      "[4213 rows x 11 columns]\n"
     ]
    }
   ],
   "source": [
    "data=pd.read_csv(\"C:/Users/hilal/OneDrive/Masaüstü/nba/player_data.csv\")\n",
    "data.dropna(inplace=True)\n",
    "#data[\"name\"]=data[\"name\"].str.upper()\n",
    "data[\"index\"]=data[\"name\"].str.find(\"a\") # -1 yazarsa a bulunmadıgını ıfade eder\n",
    "#data=data.name.str.contains(\"Alaa\")\n",
    "#data=data[data.name.str.contains(\"Alaa\")]\n",
    "#data=data.name.str.replace(\" \",\"-\")\n",
    "data[[\"firstName\",\"lastName\"]]=data[\"name\"].loc[data[\"name\"].str.split().str.len()==2].str.split(expand=True)\n",
    "print(data)"
   ]
  },
  {
   "cell_type": "markdown",
   "id": "ebd0d799-f08e-4f2d-92dd-a1cb990cbe8d",
   "metadata": {},
   "source": [
    "## data frame birlestirme"
   ]
  },
  {
   "cell_type": "code",
   "execution_count": 188,
   "id": "bbc05c53-aa82-4bf7-aa88-3a541c8e0a58",
   "metadata": {},
   "outputs": [
    {
     "name": "stdout",
     "output_type": "stream",
     "text": [
      "   CustomerId FirstName LastName  CustomerId FirstName LastName\n",
      "0           1     Ahmet   Yılmaz           4    Yagmur    Bilge\n",
      "1           2       Ali  Korkmaz           5     Çınar    Turan\n",
      "2           3     Hasan    Çelik           6    Cengiz   Yılmaz\n",
      "3           4     Canan   Toprak           7       Can    Turan\n"
     ]
    }
   ],
   "source": [
    "import pandas as pd\n",
    "customers={ \n",
    "    \"CustomerId\": [1,2,3,4],\n",
    "    \"FirstName\":[\"Ahmet\",\"Ali\",\"Hasan\",\"Canan\"],\n",
    "    \"LastName\":[\"Yılmaz\",\"Korkmaz\",\"Çelik\",\"Toprak\"]\n",
    "}\n",
    "orders={\n",
    "    \"OrderId\":[10,11,12,13],\n",
    "    \"CustomerId\":[1,2,5,7],\n",
    "    \"OrderDate\":[\"2010-07-04\",\"2010-08-04\",\"2010-07-07\",\"2012-07-04\"]\n",
    "}\n",
    "df_customers=pd.DataFrame(customers,columns=[\"CustomerId\",\"FirstName\",\"LastName\"])\n",
    "df_orders=pd.DataFrame(orders,columns=[\"OrderId\",\"CustomerId\",\"OrderDate\"])\n",
    "#print(df_customers)\n",
    "#print(df_orders)\n",
    "#print(\"**********\")\n",
    "# birlestirme merge()\n",
    "#inner sadece ortak olanları birlestirdi\n",
    "#result=pd.merge(df_customers,df_orders,how=\"inner\")\n",
    "#result=pd.merge(df_customers,df_orders,how=\"left\") #soldakılerı getır sag tarafa nan verır\n",
    "#result=pd.merge(df_customers,df_orders,how=\"right\") # sag taraftakileri veri sol tarafa nan verır \n",
    "result=pd.merge(df_customers,df_orders,how=\"outer\") #sag ve sol hepsını getırır\n",
    "customersA={ \n",
    "    \"CustomerId\": [1,2,3,4],\n",
    "    \"FirstName\":[\"Ahmet\",\"Ali\",\"Hasan\",\"Canan\"],\n",
    "    \"LastName\":[\"Yılmaz\",\"Korkmaz\",\"Çelik\",\"Toprak\"]\n",
    "}\n",
    "customersB={ \n",
    "    \"CustomerId\": [4,5,6,7],\n",
    "    \"FirstName\":[\"Yagmur\",\"Çınar\",\"Cengiz\",\"Can\"],\n",
    "    \"LastName\":[\"Bilge\",\"Turan\",\"Yılmaz\",\"Turan\"]\n",
    "}\n",
    "df_customersA=pd.DataFrame(customersA,columns=[\"CustomerId\",\"FirstName\",\"LastName\"])\n",
    "df_customersB=pd.DataFrame(customersB,columns=[\"CustomerId\",\"FirstName\",\"LastName\"])\n",
    "#concat 2 df yı  bırlestırme \n",
    "#Alt alta eklendi\n",
    "result=pd.concat([df_customersA,df_customersB])\n",
    "#yanyana eklemek ıcın axis =1\n",
    "result=pd.concat([df_customersA,df_customersB],axis=1)\n",
    "print(result)"
   ]
  },
  {
   "cell_type": "code",
   "execution_count": 214,
   "id": "34d4c5af-7fcc-483f-8a96-4cae5fc7f733",
   "metadata": {},
   "outputs": [
    {
     "name": "stdout",
     "output_type": "stream",
     "text": [
      "   Column1  Column2 Column3  Column4\n",
      "4        5       25     dea        3\n",
      "1        2       20    bcaa        4\n",
      "3        4       20      cb        2\n",
      "2        3       13     ade        3\n",
      "0        1       10     abc        3\n"
     ]
    }
   ],
   "source": [
    "import pandas as pd\n",
    "import numpy as np \n",
    "data={\n",
    "    \"Column1\":[1,2,3,4,5],\n",
    "    \"Column2\":[10,20,13,20,25],\n",
    "    \"Column3\":[\"abc\",\"bcaa\",\"ade\",\"cb\",\"dea\"]\n",
    "}\n",
    "df=pd.DataFrame(data)\n",
    "def kareal(x):\n",
    "    return x*x\n",
    "kareal2=lambda x:x*x\n",
    "result=df\n",
    "result=df[\"Column2\"].unique() #aynı olamaynları verı\n",
    "result=df[\"Column2\"].nunique() #unıq olanların sayısını verır\n",
    "result=df[\"Column2\"].value_counts() # her sayıdan kac tane oldugunu verdı\n",
    "result=df[\"Column2\"].value_counts()\n",
    "result=df[\"Column1\"]*2\n",
    "result=df[\"Column1\"].apply(kareal) #apply içine fonk verebılırız ve kareal fonk ıcerısıne column1 degerlerı gelır\n",
    "result=df[\"Column1\"].apply(kareal2) #yukarıdakını aynısı\n",
    "df[\"Column4\"]=df[\"Column3\"].apply(len) # karakter sayısını soyler len metotu\n",
    "result=df.columns\n",
    "result=len(df.columns)#kolon sayısı\n",
    "result=df.index# 0dan 5 e kadar gıttıgını ve adım sayının 1 oldugunu soyler\n",
    "result=len(df.index) # 5 cıktısı verır satır sayısı\n",
    "#result=df.info() #detaylı bılgılerı verır\n",
    "#sıralama yapmak ıstersem\n",
    "result=df.sort_values(\"Column2\")\n",
    "#azalan sıraya gore sıralamak ıcın ascendinge false vermelıyız varsayılanı truedır\n",
    "result=df.sort_values(\"Column2\",ascending=False)\n",
    "print(result)"
   ]
  },
  {
   "cell_type": "code",
   "execution_count": 216,
   "id": "318e07c3-6273-4cb4-9a6f-19e8396acc08",
   "metadata": {},
   "outputs": [
    {
     "name": "stdout",
     "output_type": "stream",
     "text": [
      "Kategori  Elektronik  Giyim  Kitap\n",
      "Ay                                \n",
      "Haziran         30.0   36.0   32.0\n",
      "Mayıs           20.0   12.0   14.0\n",
      "Nisan           15.0   52.0   42.0\n"
     ]
    }
   ],
   "source": [
    "data={\n",
    "    \"Ay\":[\"Mayıs\",\"Haziran\",\"Nisan\",\"Mayıs\",\"Haziran\",\"Nisan\",\"Mayıs\",\"Haziran\",\"Nisan\"],\n",
    "    \"Kategori\":[\"Elektronik\",\"Elektronik\",\"Elektronik\",\"Kitap\",\"Kitap\",\"Kitap\",\"Giyim\",\"Giyim\",\"Giyim\"],\n",
    "    \"Gelir\":[20,30,15,14,32,42,12,36,52]\n",
    "}\n",
    "    \n",
    "df=pd.DataFrame(data)\n",
    "print(df.pivot_table(index=\"Ay\",columns=\"Kategori\",values=\"Gelir\"))\n",
    "#pivot_Table kullanım"
   ]
  },
  {
   "cell_type": "code",
   "execution_count": 1,
   "id": "6a1f3d04-a9b5-4080-aa75-a03708f23b6d",
   "metadata": {},
   "outputs": [
    {
     "ename": "TypeError",
     "evalue": "agg function failed [how->mean,dtype->object]",
     "output_type": "error",
     "traceback": [
      "\u001b[1;31m---------------------------------------------------------------------------\u001b[0m",
      "\u001b[1;31mTypeError\u001b[0m                                 Traceback (most recent call last)",
      "File \u001b[1;32mC:\\ProgramData\\anaconda3\\Lib\\site-packages\\pandas\\core\\groupby\\groupby.py:1874\u001b[0m, in \u001b[0;36mGroupBy._agg_py_fallback\u001b[1;34m(self, how, values, ndim, alt)\u001b[0m\n\u001b[0;32m   1873\u001b[0m \u001b[38;5;28;01mtry\u001b[39;00m:\n\u001b[1;32m-> 1874\u001b[0m     res_values \u001b[38;5;241m=\u001b[39m \u001b[38;5;28mself\u001b[39m\u001b[38;5;241m.\u001b[39mgrouper\u001b[38;5;241m.\u001b[39magg_series(ser, alt, preserve_dtype\u001b[38;5;241m=\u001b[39m\u001b[38;5;28;01mTrue\u001b[39;00m)\n\u001b[0;32m   1875\u001b[0m \u001b[38;5;28;01mexcept\u001b[39;00m \u001b[38;5;167;01mException\u001b[39;00m \u001b[38;5;28;01mas\u001b[39;00m err:\n",
      "File \u001b[1;32mC:\\ProgramData\\anaconda3\\Lib\\site-packages\\pandas\\core\\groupby\\ops.py:849\u001b[0m, in \u001b[0;36mBaseGrouper.agg_series\u001b[1;34m(self, obj, func, preserve_dtype)\u001b[0m\n\u001b[0;32m    847\u001b[0m     preserve_dtype \u001b[38;5;241m=\u001b[39m \u001b[38;5;28;01mTrue\u001b[39;00m\n\u001b[1;32m--> 849\u001b[0m result \u001b[38;5;241m=\u001b[39m \u001b[38;5;28mself\u001b[39m\u001b[38;5;241m.\u001b[39m_aggregate_series_pure_python(obj, func)\n\u001b[0;32m    851\u001b[0m \u001b[38;5;28;01mif\u001b[39;00m \u001b[38;5;28mlen\u001b[39m(obj) \u001b[38;5;241m==\u001b[39m \u001b[38;5;241m0\u001b[39m \u001b[38;5;129;01mand\u001b[39;00m \u001b[38;5;28mlen\u001b[39m(result) \u001b[38;5;241m==\u001b[39m \u001b[38;5;241m0\u001b[39m \u001b[38;5;129;01mand\u001b[39;00m \u001b[38;5;28misinstance\u001b[39m(obj\u001b[38;5;241m.\u001b[39mdtype, ExtensionDtype):\n",
      "File \u001b[1;32mC:\\ProgramData\\anaconda3\\Lib\\site-packages\\pandas\\core\\groupby\\ops.py:877\u001b[0m, in \u001b[0;36mBaseGrouper._aggregate_series_pure_python\u001b[1;34m(self, obj, func)\u001b[0m\n\u001b[0;32m    876\u001b[0m \u001b[38;5;28;01mfor\u001b[39;00m i, group \u001b[38;5;129;01min\u001b[39;00m \u001b[38;5;28menumerate\u001b[39m(splitter):\n\u001b[1;32m--> 877\u001b[0m     res \u001b[38;5;241m=\u001b[39m func(group)\n\u001b[0;32m    878\u001b[0m     res \u001b[38;5;241m=\u001b[39m extract_result(res)\n",
      "File \u001b[1;32mC:\\ProgramData\\anaconda3\\Lib\\site-packages\\pandas\\core\\groupby\\groupby.py:2380\u001b[0m, in \u001b[0;36mGroupBy.mean.<locals>.<lambda>\u001b[1;34m(x)\u001b[0m\n\u001b[0;32m   2377\u001b[0m \u001b[38;5;28;01melse\u001b[39;00m:\n\u001b[0;32m   2378\u001b[0m     result \u001b[38;5;241m=\u001b[39m \u001b[38;5;28mself\u001b[39m\u001b[38;5;241m.\u001b[39m_cython_agg_general(\n\u001b[0;32m   2379\u001b[0m         \u001b[38;5;124m\"\u001b[39m\u001b[38;5;124mmean\u001b[39m\u001b[38;5;124m\"\u001b[39m,\n\u001b[1;32m-> 2380\u001b[0m         alt\u001b[38;5;241m=\u001b[39m\u001b[38;5;28;01mlambda\u001b[39;00m x: Series(x)\u001b[38;5;241m.\u001b[39mmean(numeric_only\u001b[38;5;241m=\u001b[39mnumeric_only),\n\u001b[0;32m   2381\u001b[0m         numeric_only\u001b[38;5;241m=\u001b[39mnumeric_only,\n\u001b[0;32m   2382\u001b[0m     )\n\u001b[0;32m   2383\u001b[0m     \u001b[38;5;28;01mreturn\u001b[39;00m result\u001b[38;5;241m.\u001b[39m__finalize__(\u001b[38;5;28mself\u001b[39m\u001b[38;5;241m.\u001b[39mobj, method\u001b[38;5;241m=\u001b[39m\u001b[38;5;124m\"\u001b[39m\u001b[38;5;124mgroupby\u001b[39m\u001b[38;5;124m\"\u001b[39m)\n",
      "File \u001b[1;32mC:\\ProgramData\\anaconda3\\Lib\\site-packages\\pandas\\core\\series.py:6225\u001b[0m, in \u001b[0;36mSeries.mean\u001b[1;34m(self, axis, skipna, numeric_only, **kwargs)\u001b[0m\n\u001b[0;32m   6217\u001b[0m \u001b[38;5;129m@doc\u001b[39m(make_doc(\u001b[38;5;124m\"\u001b[39m\u001b[38;5;124mmean\u001b[39m\u001b[38;5;124m\"\u001b[39m, ndim\u001b[38;5;241m=\u001b[39m\u001b[38;5;241m1\u001b[39m))\n\u001b[0;32m   6218\u001b[0m \u001b[38;5;28;01mdef\u001b[39;00m \u001b[38;5;21mmean\u001b[39m(\n\u001b[0;32m   6219\u001b[0m     \u001b[38;5;28mself\u001b[39m,\n\u001b[1;32m   (...)\u001b[0m\n\u001b[0;32m   6223\u001b[0m     \u001b[38;5;241m*\u001b[39m\u001b[38;5;241m*\u001b[39mkwargs,\n\u001b[0;32m   6224\u001b[0m ):\n\u001b[1;32m-> 6225\u001b[0m     \u001b[38;5;28;01mreturn\u001b[39;00m NDFrame\u001b[38;5;241m.\u001b[39mmean(\u001b[38;5;28mself\u001b[39m, axis, skipna, numeric_only, \u001b[38;5;241m*\u001b[39m\u001b[38;5;241m*\u001b[39mkwargs)\n",
      "File \u001b[1;32mC:\\ProgramData\\anaconda3\\Lib\\site-packages\\pandas\\core\\generic.py:11992\u001b[0m, in \u001b[0;36mNDFrame.mean\u001b[1;34m(self, axis, skipna, numeric_only, **kwargs)\u001b[0m\n\u001b[0;32m  11985\u001b[0m \u001b[38;5;28;01mdef\u001b[39;00m \u001b[38;5;21mmean\u001b[39m(\n\u001b[0;32m  11986\u001b[0m     \u001b[38;5;28mself\u001b[39m,\n\u001b[0;32m  11987\u001b[0m     axis: Axis \u001b[38;5;241m|\u001b[39m \u001b[38;5;28;01mNone\u001b[39;00m \u001b[38;5;241m=\u001b[39m \u001b[38;5;241m0\u001b[39m,\n\u001b[1;32m   (...)\u001b[0m\n\u001b[0;32m  11990\u001b[0m     \u001b[38;5;241m*\u001b[39m\u001b[38;5;241m*\u001b[39mkwargs,\n\u001b[0;32m  11991\u001b[0m ) \u001b[38;5;241m-\u001b[39m\u001b[38;5;241m>\u001b[39m Series \u001b[38;5;241m|\u001b[39m \u001b[38;5;28mfloat\u001b[39m:\n\u001b[1;32m> 11992\u001b[0m     \u001b[38;5;28;01mreturn\u001b[39;00m \u001b[38;5;28mself\u001b[39m\u001b[38;5;241m.\u001b[39m_stat_function(\n\u001b[0;32m  11993\u001b[0m         \u001b[38;5;124m\"\u001b[39m\u001b[38;5;124mmean\u001b[39m\u001b[38;5;124m\"\u001b[39m, nanops\u001b[38;5;241m.\u001b[39mnanmean, axis, skipna, numeric_only, \u001b[38;5;241m*\u001b[39m\u001b[38;5;241m*\u001b[39mkwargs\n\u001b[0;32m  11994\u001b[0m     )\n",
      "File \u001b[1;32mC:\\ProgramData\\anaconda3\\Lib\\site-packages\\pandas\\core\\generic.py:11949\u001b[0m, in \u001b[0;36mNDFrame._stat_function\u001b[1;34m(self, name, func, axis, skipna, numeric_only, **kwargs)\u001b[0m\n\u001b[0;32m  11947\u001b[0m validate_bool_kwarg(skipna, \u001b[38;5;124m\"\u001b[39m\u001b[38;5;124mskipna\u001b[39m\u001b[38;5;124m\"\u001b[39m, none_allowed\u001b[38;5;241m=\u001b[39m\u001b[38;5;28;01mFalse\u001b[39;00m)\n\u001b[1;32m> 11949\u001b[0m \u001b[38;5;28;01mreturn\u001b[39;00m \u001b[38;5;28mself\u001b[39m\u001b[38;5;241m.\u001b[39m_reduce(\n\u001b[0;32m  11950\u001b[0m     func, name\u001b[38;5;241m=\u001b[39mname, axis\u001b[38;5;241m=\u001b[39maxis, skipna\u001b[38;5;241m=\u001b[39mskipna, numeric_only\u001b[38;5;241m=\u001b[39mnumeric_only\n\u001b[0;32m  11951\u001b[0m )\n",
      "File \u001b[1;32mC:\\ProgramData\\anaconda3\\Lib\\site-packages\\pandas\\core\\series.py:6133\u001b[0m, in \u001b[0;36mSeries._reduce\u001b[1;34m(self, op, name, axis, skipna, numeric_only, filter_type, **kwds)\u001b[0m\n\u001b[0;32m   6129\u001b[0m     \u001b[38;5;28;01mraise\u001b[39;00m \u001b[38;5;167;01mTypeError\u001b[39;00m(\n\u001b[0;32m   6130\u001b[0m         \u001b[38;5;124mf\u001b[39m\u001b[38;5;124m\"\u001b[39m\u001b[38;5;124mSeries.\u001b[39m\u001b[38;5;132;01m{\u001b[39;00mname\u001b[38;5;132;01m}\u001b[39;00m\u001b[38;5;124m does not allow \u001b[39m\u001b[38;5;132;01m{\u001b[39;00mkwd_name\u001b[38;5;132;01m}\u001b[39;00m\u001b[38;5;124m=\u001b[39m\u001b[38;5;132;01m{\u001b[39;00mnumeric_only\u001b[38;5;132;01m}\u001b[39;00m\u001b[38;5;124m \u001b[39m\u001b[38;5;124m\"\u001b[39m\n\u001b[0;32m   6131\u001b[0m         \u001b[38;5;124m\"\u001b[39m\u001b[38;5;124mwith non-numeric dtypes.\u001b[39m\u001b[38;5;124m\"\u001b[39m\n\u001b[0;32m   6132\u001b[0m     )\n\u001b[1;32m-> 6133\u001b[0m \u001b[38;5;28;01mreturn\u001b[39;00m op(delegate, skipna\u001b[38;5;241m=\u001b[39mskipna, \u001b[38;5;241m*\u001b[39m\u001b[38;5;241m*\u001b[39mkwds)\n",
      "File \u001b[1;32mC:\\ProgramData\\anaconda3\\Lib\\site-packages\\pandas\\core\\nanops.py:147\u001b[0m, in \u001b[0;36mbottleneck_switch.__call__.<locals>.f\u001b[1;34m(values, axis, skipna, **kwds)\u001b[0m\n\u001b[0;32m    146\u001b[0m \u001b[38;5;28;01melse\u001b[39;00m:\n\u001b[1;32m--> 147\u001b[0m     result \u001b[38;5;241m=\u001b[39m alt(values, axis\u001b[38;5;241m=\u001b[39maxis, skipna\u001b[38;5;241m=\u001b[39mskipna, \u001b[38;5;241m*\u001b[39m\u001b[38;5;241m*\u001b[39mkwds)\n\u001b[0;32m    149\u001b[0m \u001b[38;5;28;01mreturn\u001b[39;00m result\n",
      "File \u001b[1;32mC:\\ProgramData\\anaconda3\\Lib\\site-packages\\pandas\\core\\nanops.py:404\u001b[0m, in \u001b[0;36m_datetimelike_compat.<locals>.new_func\u001b[1;34m(values, axis, skipna, mask, **kwargs)\u001b[0m\n\u001b[0;32m    402\u001b[0m     mask \u001b[38;5;241m=\u001b[39m isna(values)\n\u001b[1;32m--> 404\u001b[0m result \u001b[38;5;241m=\u001b[39m func(values, axis\u001b[38;5;241m=\u001b[39maxis, skipna\u001b[38;5;241m=\u001b[39mskipna, mask\u001b[38;5;241m=\u001b[39mmask, \u001b[38;5;241m*\u001b[39m\u001b[38;5;241m*\u001b[39mkwargs)\n\u001b[0;32m    406\u001b[0m \u001b[38;5;28;01mif\u001b[39;00m datetimelike:\n",
      "File \u001b[1;32mC:\\ProgramData\\anaconda3\\Lib\\site-packages\\pandas\\core\\nanops.py:720\u001b[0m, in \u001b[0;36mnanmean\u001b[1;34m(values, axis, skipna, mask)\u001b[0m\n\u001b[0;32m    719\u001b[0m the_sum \u001b[38;5;241m=\u001b[39m values\u001b[38;5;241m.\u001b[39msum(axis, dtype\u001b[38;5;241m=\u001b[39mdtype_sum)\n\u001b[1;32m--> 720\u001b[0m the_sum \u001b[38;5;241m=\u001b[39m _ensure_numeric(the_sum)\n\u001b[0;32m    722\u001b[0m \u001b[38;5;28;01mif\u001b[39;00m axis \u001b[38;5;129;01mis\u001b[39;00m \u001b[38;5;129;01mnot\u001b[39;00m \u001b[38;5;28;01mNone\u001b[39;00m \u001b[38;5;129;01mand\u001b[39;00m \u001b[38;5;28mgetattr\u001b[39m(the_sum, \u001b[38;5;124m\"\u001b[39m\u001b[38;5;124mndim\u001b[39m\u001b[38;5;124m\"\u001b[39m, \u001b[38;5;28;01mFalse\u001b[39;00m):\n",
      "File \u001b[1;32mC:\\ProgramData\\anaconda3\\Lib\\site-packages\\pandas\\core\\nanops.py:1693\u001b[0m, in \u001b[0;36m_ensure_numeric\u001b[1;34m(x)\u001b[0m\n\u001b[0;32m   1691\u001b[0m \u001b[38;5;28;01mif\u001b[39;00m \u001b[38;5;28misinstance\u001b[39m(x, \u001b[38;5;28mstr\u001b[39m):\n\u001b[0;32m   1692\u001b[0m     \u001b[38;5;66;03m# GH#44008, GH#36703 avoid casting e.g. strings to numeric\u001b[39;00m\n\u001b[1;32m-> 1693\u001b[0m     \u001b[38;5;28;01mraise\u001b[39;00m \u001b[38;5;167;01mTypeError\u001b[39;00m(\u001b[38;5;124mf\u001b[39m\u001b[38;5;124m\"\u001b[39m\u001b[38;5;124mCould not convert string \u001b[39m\u001b[38;5;124m'\u001b[39m\u001b[38;5;132;01m{\u001b[39;00mx\u001b[38;5;132;01m}\u001b[39;00m\u001b[38;5;124m'\u001b[39m\u001b[38;5;124m to numeric\u001b[39m\u001b[38;5;124m\"\u001b[39m)\n\u001b[0;32m   1694\u001b[0m \u001b[38;5;28;01mtry\u001b[39;00m:\n",
      "\u001b[1;31mTypeError\u001b[0m: Could not convert string 'G' to numeric",
      "\nThe above exception was the direct cause of the following exception:\n",
      "\u001b[1;31mTypeError\u001b[0m                                 Traceback (most recent call last)",
      "Cell \u001b[1;32mIn[1], line 3\u001b[0m\n\u001b[0;32m      1\u001b[0m \u001b[38;5;28;01mimport\u001b[39;00m \u001b[38;5;21;01mpandas\u001b[39;00m \u001b[38;5;28;01mas\u001b[39;00m \u001b[38;5;21;01mpd\u001b[39;00m \n\u001b[0;32m      2\u001b[0m df\u001b[38;5;241m=\u001b[39mpd\u001b[38;5;241m.\u001b[39mread_csv(\u001b[38;5;124m\"\u001b[39m\u001b[38;5;124mC:/Users/hilal/OneDrive/Masaüstü/nba/player_data.csv\u001b[39m\u001b[38;5;124m\"\u001b[39m)\n\u001b[1;32m----> 3\u001b[0m df\u001b[38;5;241m=\u001b[39mdf\u001b[38;5;241m.\u001b[39mdrop([\u001b[38;5;124m\"\u001b[39m\u001b[38;5;124mname\u001b[39m\u001b[38;5;124m\"\u001b[39m],axis\u001b[38;5;241m=\u001b[39m\u001b[38;5;241m1\u001b[39m)\u001b[38;5;241m.\u001b[39mgroupby(\u001b[38;5;124m\"\u001b[39m\u001b[38;5;124mweight\u001b[39m\u001b[38;5;124m\"\u001b[39m)\u001b[38;5;241m.\u001b[39mmean()\n\u001b[0;32m      4\u001b[0m df\u001b[38;5;241m.\u001b[39mplot(subplots\u001b[38;5;241m=\u001b[39m\u001b[38;5;28;01mTrue\u001b[39;00m)\n\u001b[0;32m      5\u001b[0m plt\u001b[38;5;241m.\u001b[39mlegend()\n",
      "File \u001b[1;32mC:\\ProgramData\\anaconda3\\Lib\\site-packages\\pandas\\core\\groupby\\groupby.py:2378\u001b[0m, in \u001b[0;36mGroupBy.mean\u001b[1;34m(self, numeric_only, engine, engine_kwargs)\u001b[0m\n\u001b[0;32m   2371\u001b[0m     \u001b[38;5;28;01mreturn\u001b[39;00m \u001b[38;5;28mself\u001b[39m\u001b[38;5;241m.\u001b[39m_numba_agg_general(\n\u001b[0;32m   2372\u001b[0m         grouped_mean,\n\u001b[0;32m   2373\u001b[0m         executor\u001b[38;5;241m.\u001b[39mfloat_dtype_mapping,\n\u001b[0;32m   2374\u001b[0m         engine_kwargs,\n\u001b[0;32m   2375\u001b[0m         min_periods\u001b[38;5;241m=\u001b[39m\u001b[38;5;241m0\u001b[39m,\n\u001b[0;32m   2376\u001b[0m     )\n\u001b[0;32m   2377\u001b[0m \u001b[38;5;28;01melse\u001b[39;00m:\n\u001b[1;32m-> 2378\u001b[0m     result \u001b[38;5;241m=\u001b[39m \u001b[38;5;28mself\u001b[39m\u001b[38;5;241m.\u001b[39m_cython_agg_general(\n\u001b[0;32m   2379\u001b[0m         \u001b[38;5;124m\"\u001b[39m\u001b[38;5;124mmean\u001b[39m\u001b[38;5;124m\"\u001b[39m,\n\u001b[0;32m   2380\u001b[0m         alt\u001b[38;5;241m=\u001b[39m\u001b[38;5;28;01mlambda\u001b[39;00m x: Series(x)\u001b[38;5;241m.\u001b[39mmean(numeric_only\u001b[38;5;241m=\u001b[39mnumeric_only),\n\u001b[0;32m   2381\u001b[0m         numeric_only\u001b[38;5;241m=\u001b[39mnumeric_only,\n\u001b[0;32m   2382\u001b[0m     )\n\u001b[0;32m   2383\u001b[0m     \u001b[38;5;28;01mreturn\u001b[39;00m result\u001b[38;5;241m.\u001b[39m__finalize__(\u001b[38;5;28mself\u001b[39m\u001b[38;5;241m.\u001b[39mobj, method\u001b[38;5;241m=\u001b[39m\u001b[38;5;124m\"\u001b[39m\u001b[38;5;124mgroupby\u001b[39m\u001b[38;5;124m\"\u001b[39m)\n",
      "File \u001b[1;32mC:\\ProgramData\\anaconda3\\Lib\\site-packages\\pandas\\core\\groupby\\groupby.py:1929\u001b[0m, in \u001b[0;36mGroupBy._cython_agg_general\u001b[1;34m(self, how, alt, numeric_only, min_count, **kwargs)\u001b[0m\n\u001b[0;32m   1926\u001b[0m     result \u001b[38;5;241m=\u001b[39m \u001b[38;5;28mself\u001b[39m\u001b[38;5;241m.\u001b[39m_agg_py_fallback(how, values, ndim\u001b[38;5;241m=\u001b[39mdata\u001b[38;5;241m.\u001b[39mndim, alt\u001b[38;5;241m=\u001b[39malt)\n\u001b[0;32m   1927\u001b[0m     \u001b[38;5;28;01mreturn\u001b[39;00m result\n\u001b[1;32m-> 1929\u001b[0m new_mgr \u001b[38;5;241m=\u001b[39m data\u001b[38;5;241m.\u001b[39mgrouped_reduce(array_func)\n\u001b[0;32m   1930\u001b[0m res \u001b[38;5;241m=\u001b[39m \u001b[38;5;28mself\u001b[39m\u001b[38;5;241m.\u001b[39m_wrap_agged_manager(new_mgr)\n\u001b[0;32m   1931\u001b[0m out \u001b[38;5;241m=\u001b[39m \u001b[38;5;28mself\u001b[39m\u001b[38;5;241m.\u001b[39m_wrap_aggregated_output(res)\n",
      "File \u001b[1;32mC:\\ProgramData\\anaconda3\\Lib\\site-packages\\pandas\\core\\internals\\managers.py:1428\u001b[0m, in \u001b[0;36mBlockManager.grouped_reduce\u001b[1;34m(self, func)\u001b[0m\n\u001b[0;32m   1424\u001b[0m \u001b[38;5;28;01mif\u001b[39;00m blk\u001b[38;5;241m.\u001b[39mis_object:\n\u001b[0;32m   1425\u001b[0m     \u001b[38;5;66;03m# split on object-dtype blocks bc some columns may raise\u001b[39;00m\n\u001b[0;32m   1426\u001b[0m     \u001b[38;5;66;03m#  while others do not.\u001b[39;00m\n\u001b[0;32m   1427\u001b[0m     \u001b[38;5;28;01mfor\u001b[39;00m sb \u001b[38;5;129;01min\u001b[39;00m blk\u001b[38;5;241m.\u001b[39m_split():\n\u001b[1;32m-> 1428\u001b[0m         applied \u001b[38;5;241m=\u001b[39m sb\u001b[38;5;241m.\u001b[39mapply(func)\n\u001b[0;32m   1429\u001b[0m         result_blocks \u001b[38;5;241m=\u001b[39m extend_blocks(applied, result_blocks)\n\u001b[0;32m   1430\u001b[0m \u001b[38;5;28;01melse\u001b[39;00m:\n",
      "File \u001b[1;32mC:\\ProgramData\\anaconda3\\Lib\\site-packages\\pandas\\core\\internals\\blocks.py:366\u001b[0m, in \u001b[0;36mBlock.apply\u001b[1;34m(self, func, **kwargs)\u001b[0m\n\u001b[0;32m    360\u001b[0m \u001b[38;5;129m@final\u001b[39m\n\u001b[0;32m    361\u001b[0m \u001b[38;5;28;01mdef\u001b[39;00m \u001b[38;5;21mapply\u001b[39m(\u001b[38;5;28mself\u001b[39m, func, \u001b[38;5;241m*\u001b[39m\u001b[38;5;241m*\u001b[39mkwargs) \u001b[38;5;241m-\u001b[39m\u001b[38;5;241m>\u001b[39m \u001b[38;5;28mlist\u001b[39m[Block]:\n\u001b[0;32m    362\u001b[0m \u001b[38;5;250m    \u001b[39m\u001b[38;5;124;03m\"\"\"\u001b[39;00m\n\u001b[0;32m    363\u001b[0m \u001b[38;5;124;03m    apply the function to my values; return a block if we are not\u001b[39;00m\n\u001b[0;32m    364\u001b[0m \u001b[38;5;124;03m    one\u001b[39;00m\n\u001b[0;32m    365\u001b[0m \u001b[38;5;124;03m    \"\"\"\u001b[39;00m\n\u001b[1;32m--> 366\u001b[0m     result \u001b[38;5;241m=\u001b[39m func(\u001b[38;5;28mself\u001b[39m\u001b[38;5;241m.\u001b[39mvalues, \u001b[38;5;241m*\u001b[39m\u001b[38;5;241m*\u001b[39mkwargs)\n\u001b[0;32m    368\u001b[0m     result \u001b[38;5;241m=\u001b[39m maybe_coerce_values(result)\n\u001b[0;32m    369\u001b[0m     \u001b[38;5;28;01mreturn\u001b[39;00m \u001b[38;5;28mself\u001b[39m\u001b[38;5;241m.\u001b[39m_split_op_result(result)\n",
      "File \u001b[1;32mC:\\ProgramData\\anaconda3\\Lib\\site-packages\\pandas\\core\\groupby\\groupby.py:1926\u001b[0m, in \u001b[0;36mGroupBy._cython_agg_general.<locals>.array_func\u001b[1;34m(values)\u001b[0m\n\u001b[0;32m   1923\u001b[0m \u001b[38;5;28;01melse\u001b[39;00m:\n\u001b[0;32m   1924\u001b[0m     \u001b[38;5;28;01mreturn\u001b[39;00m result\n\u001b[1;32m-> 1926\u001b[0m result \u001b[38;5;241m=\u001b[39m \u001b[38;5;28mself\u001b[39m\u001b[38;5;241m.\u001b[39m_agg_py_fallback(how, values, ndim\u001b[38;5;241m=\u001b[39mdata\u001b[38;5;241m.\u001b[39mndim, alt\u001b[38;5;241m=\u001b[39malt)\n\u001b[0;32m   1927\u001b[0m \u001b[38;5;28;01mreturn\u001b[39;00m result\n",
      "File \u001b[1;32mC:\\ProgramData\\anaconda3\\Lib\\site-packages\\pandas\\core\\groupby\\groupby.py:1878\u001b[0m, in \u001b[0;36mGroupBy._agg_py_fallback\u001b[1;34m(self, how, values, ndim, alt)\u001b[0m\n\u001b[0;32m   1876\u001b[0m     msg \u001b[38;5;241m=\u001b[39m \u001b[38;5;124mf\u001b[39m\u001b[38;5;124m\"\u001b[39m\u001b[38;5;124magg function failed [how->\u001b[39m\u001b[38;5;132;01m{\u001b[39;00mhow\u001b[38;5;132;01m}\u001b[39;00m\u001b[38;5;124m,dtype->\u001b[39m\u001b[38;5;132;01m{\u001b[39;00mser\u001b[38;5;241m.\u001b[39mdtype\u001b[38;5;132;01m}\u001b[39;00m\u001b[38;5;124m]\u001b[39m\u001b[38;5;124m\"\u001b[39m\n\u001b[0;32m   1877\u001b[0m     \u001b[38;5;66;03m# preserve the kind of exception that raised\u001b[39;00m\n\u001b[1;32m-> 1878\u001b[0m     \u001b[38;5;28;01mraise\u001b[39;00m \u001b[38;5;28mtype\u001b[39m(err)(msg) \u001b[38;5;28;01mfrom\u001b[39;00m \u001b[38;5;21;01merr\u001b[39;00m\n\u001b[0;32m   1880\u001b[0m \u001b[38;5;28;01mif\u001b[39;00m ser\u001b[38;5;241m.\u001b[39mdtype \u001b[38;5;241m==\u001b[39m \u001b[38;5;28mobject\u001b[39m:\n\u001b[0;32m   1881\u001b[0m     res_values \u001b[38;5;241m=\u001b[39m res_values\u001b[38;5;241m.\u001b[39mastype(\u001b[38;5;28mobject\u001b[39m, copy\u001b[38;5;241m=\u001b[39m\u001b[38;5;28;01mFalse\u001b[39;00m)\n",
      "\u001b[1;31mTypeError\u001b[0m: agg function failed [how->mean,dtype->object]"
     ]
    }
   ],
   "source": []
  },
  {
   "cell_type": "code",
   "execution_count": null,
   "id": "765f4849-3005-4584-a536-1b4422c07848",
   "metadata": {},
   "outputs": [],
   "source": []
  }
 ],
 "metadata": {
  "kernelspec": {
   "display_name": "Python 3 (ipykernel)",
   "language": "python",
   "name": "python3"
  },
  "language_info": {
   "codemirror_mode": {
    "name": "ipython",
    "version": 3
   },
   "file_extension": ".py",
   "mimetype": "text/x-python",
   "name": "python",
   "nbconvert_exporter": "python",
   "pygments_lexer": "ipython3",
   "version": "3.11.7"
  }
 },
 "nbformat": 4,
 "nbformat_minor": 5
}
