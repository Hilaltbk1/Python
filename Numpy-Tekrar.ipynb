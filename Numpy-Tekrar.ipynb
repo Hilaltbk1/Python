{
 "cells": [
  {
   "cell_type": "code",
   "execution_count": 2,
   "id": "48b1876f-7822-4e7a-8a35-c6e28e724636",
   "metadata": {},
   "outputs": [
    {
     "name": "stdout",
     "output_type": "stream",
     "text": [
      "<class 'list'>\n",
      "<class 'numpy.ndarray'>\n"
     ]
    }
   ],
   "source": [
    "import numpy as np\n",
    "#python list\n",
    "py_list=[1,2,3,4,5,6]\n",
    "#numpy list\n",
    "np_array=np.array([1,2,3,4,5,6,7,8,9])\n",
    "print(type(py_list))\n",
    "print(type(np_array))\n",
    "      "
   ]
  },
  {
   "cell_type": "code",
   "execution_count": 7,
   "id": "bc1eb138-60fa-412c-a640-e57ec22bd66c",
   "metadata": {},
   "outputs": [
    {
     "name": "stdout",
     "output_type": "stream",
     "text": [
      "[[1, 2, 3], [4, 5, 6], [7, 8, 9]]\n",
      "[[1 2 3]\n",
      " [4 5 6]\n",
      " [7 8 9]]\n"
     ]
    }
   ],
   "source": [
    "py_multi=[[1,2,3],[4,5,6],[7,8,9]]\n",
    "np_multi=np_array.reshape(3,3)\n",
    "print(py_multi)\n",
    "print(np_multi)"
   ]
  },
  {
   "cell_type": "code",
   "execution_count": 9,
   "id": "7efa7baa-6c2d-4b52-a1a1-2c67b5f31db5",
   "metadata": {},
   "outputs": [
    {
     "name": "stdout",
     "output_type": "stream",
     "text": [
      "1\n",
      "2\n"
     ]
    }
   ],
   "source": [
    "print(np_array.ndim)\n",
    "print(np_multi.ndim)\n",
    "#sahip oldugu eksen sayısını verır x ve y "
   ]
  },
  {
   "cell_type": "code",
   "execution_count": 11,
   "id": "5ae4e4a1-e407-4f65-a8b0-ef10821cf9bf",
   "metadata": {},
   "outputs": [
    {
     "name": "stdout",
     "output_type": "stream",
     "text": [
      "(9,)\n",
      "(3, 3)\n"
     ]
    }
   ],
   "source": [
    "print(np_array.shape)\n",
    "print(np_multi.shape)"
   ]
  },
  {
   "cell_type": "code",
   "execution_count": 12,
   "id": "2c54f0fe-b3b6-4227-aebe-8ff62ee0893f",
   "metadata": {},
   "outputs": [
    {
     "name": "stdout",
     "output_type": "stream",
     "text": [
      "[1 2 3 4]\n"
     ]
    }
   ],
   "source": [
    "result=np.array([1,2,3,4])\n",
    "print(result)"
   ]
  },
  {
   "cell_type": "code",
   "execution_count": 13,
   "id": "45ba110d-26da-44dc-9f39-6c4c18fad4e4",
   "metadata": {},
   "outputs": [
    {
     "name": "stdout",
     "output_type": "stream",
     "text": [
      "[1 2 3 4 5 6 7 8 9]\n"
     ]
    }
   ],
   "source": [
    "result=np.arange(1,10)\n",
    "print(result)"
   ]
  },
  {
   "cell_type": "code",
   "execution_count": 14,
   "id": "9640321a-d5f4-4876-ba05-607f5c19f967",
   "metadata": {},
   "outputs": [
    {
     "name": "stdout",
     "output_type": "stream",
     "text": [
      "[1 4 7]\n"
     ]
    }
   ],
   "source": [
    "result=np.arange(1,10,3)\n",
    "print(result)"
   ]
  },
  {
   "cell_type": "code",
   "execution_count": 15,
   "id": "dd77784b-0c26-40ee-ba71-1b11abef849d",
   "metadata": {},
   "outputs": [
    {
     "name": "stdout",
     "output_type": "stream",
     "text": [
      "[0. 0. 0. 0. 0. 0. 0. 0. 0. 0.]\n"
     ]
    }
   ],
   "source": [
    "result=np.zeros(10)\n",
    "print(result)"
   ]
  },
  {
   "cell_type": "code",
   "execution_count": 16,
   "id": "f477cbc1-2baa-4b72-9325-f8b3722c6e09",
   "metadata": {},
   "outputs": [
    {
     "name": "stdout",
     "output_type": "stream",
     "text": [
      "[1. 1. 1. 1. 1. 1. 1. 1. 1. 1.]\n"
     ]
    }
   ],
   "source": [
    "result=np.ones(10)\n",
    "print(result)"
   ]
  },
  {
   "cell_type": "code",
   "execution_count": 18,
   "id": "a0201a20-ed45-4fdd-9931-7cb4aed0c19b",
   "metadata": {},
   "outputs": [
    {
     "name": "stdout",
     "output_type": "stream",
     "text": [
      "[  0.  25.  50.  75. 100.]\n"
     ]
    }
   ],
   "source": [
    "result=np.linspace(0,100,5)\n",
    "print(result)\n",
    "#Baslangic ve bitis aralıgını boler (5 tane sayı ) (4aralık)"
   ]
  },
  {
   "cell_type": "code",
   "execution_count": 20,
   "id": "f853eedf-2e51-49e6-94e5-2c7621bb5d4a",
   "metadata": {},
   "outputs": [
    {
     "name": "stdout",
     "output_type": "stream",
     "text": [
      "1\n"
     ]
    }
   ],
   "source": [
    "result=np.random.randint(0,10) #10dahıl degıl\n",
    "print(result)"
   ]
  },
  {
   "cell_type": "code",
   "execution_count": 22,
   "id": "6e5e0bb3-b87f-46ec-8841-638608b8e3b8",
   "metadata": {},
   "outputs": [
    {
     "name": "stdout",
     "output_type": "stream",
     "text": [
      "8\n"
     ]
    }
   ],
   "source": [
    "result=np.random.randint(10)\n",
    "print(result)\n",
    "#bıtıs degerı max9"
   ]
  },
  {
   "cell_type": "code",
   "execution_count": 26,
   "id": "ea37a777-033c-4f11-afa3-934094a0fbbb",
   "metadata": {},
   "outputs": [
    {
     "name": "stdout",
     "output_type": "stream",
     "text": [
      "[3 9 5 8 9]\n"
     ]
    }
   ],
   "source": [
    "result=np.random.randint(0,10,5)\n",
    "print(result)\n",
    "#dizi dondurur 5 adet rasgele sayıyı iceren"
   ]
  },
  {
   "cell_type": "code",
   "execution_count": 27,
   "id": "f2426311-bb8e-406f-a3cc-57a4e657465f",
   "metadata": {},
   "outputs": [
    {
     "name": "stdout",
     "output_type": "stream",
     "text": [
      "[0.34933984 0.29802058 0.97538178 0.12547632 0.48563224]\n"
     ]
    }
   ],
   "source": [
    "result=np.random.rand(5)\n",
    "print(result)\n",
    "#0-5 arası rasgele sayı float da olur "
   ]
  },
  {
   "cell_type": "code",
   "execution_count": 4,
   "id": "94affc3e-6888-4ff4-a678-7b07a4352bce",
   "metadata": {},
   "outputs": [
    {
     "name": "stdout",
     "output_type": "stream",
     "text": [
      "[ 1.17058843 -0.1235836  -1.07666398  1.22993142 -0.87294613]\n"
     ]
    }
   ],
   "source": [
    "result=np.random.randn(5)\n",
    "print(result)\n",
    "#eksı degerlerde gelır"
   ]
  },
  {
   "cell_type": "code",
   "execution_count": 29,
   "id": "bf5fd3f3-5d45-4e87-8d4a-4721e92cec31",
   "metadata": {},
   "outputs": [
    {
     "name": "stdout",
     "output_type": "stream",
     "text": [
      "[[ 0  1  2  3  4  5  6  7  8  9]\n",
      " [10 11 12 13 14 15 16 17 18 19]\n",
      " [20 21 22 23 24 25 26 27 28 29]\n",
      " [30 31 32 33 34 35 36 37 38 39]\n",
      " [40 41 42 43 44 45 46 47 48 49]]\n"
     ]
    }
   ],
   "source": [
    "np_array=np.arange(50)\n",
    "result=np_array.reshape(5,10)\n",
    "print(result)"
   ]
  },
  {
   "cell_type": "code",
   "execution_count": 35,
   "id": "1c19c79d-ad37-45cd-881b-a595ced23987",
   "metadata": {},
   "outputs": [
    {
     "name": "stdout",
     "output_type": "stream",
     "text": [
      "[ 45 145 245 345 445]\n",
      "[100 105 110 115 120 125 130 135 140 145]\n"
     ]
    }
   ],
   "source": [
    "np_array=np.arange(50)\n",
    "np_multi=np_array.reshape(5,10)\n",
    "print(np_multi.sum(axis=1))\n",
    "#satırların toplamı gelir\n",
    "print(np_multi.sum(axis=0))\n",
    "#sutunların toplamı gelır"
   ]
  },
  {
   "cell_type": "code",
   "execution_count": 40,
   "id": "ad26605d-110a-435d-959e-28d2f090d7df",
   "metadata": {},
   "outputs": [
    {
     "name": "stdout",
     "output_type": "stream",
     "text": [
      "[88 27 96 44 97 82 76 97 70 96]\n",
      "97\n",
      "27\n",
      "77.3\n",
      "4\n",
      "1\n"
     ]
    }
   ],
   "source": [
    "rnd_numbers=np.random.randint(1,100,10)\n",
    "print(rnd_numbers)\n",
    "result=rnd_numbers.max()\n",
    "print(result)\n",
    "result=rnd_numbers.min()\n",
    "print(result)\n",
    "result=rnd_numbers.mean()\n",
    "print(result)\n",
    "result=rnd_numbers.argmax()#uretılen en buyuk sayının ındeksını\n",
    "print(result)\n",
    "result=rnd_numbers.argmin()#uretılen en buyuk sayının ındeksını\n",
    "print(result)"
   ]
  },
  {
   "cell_type": "code",
   "execution_count": 47,
   "id": "b9a16901-5c60-445a-a53d-2858d599c790",
   "metadata": {},
   "outputs": [
    {
     "name": "stdout",
     "output_type": "stream",
     "text": [
      "25\n",
      "75\n",
      "[ 0  5 10]\n",
      "[ 0  5 10]\n",
      "[15 20 25 50 75]\n",
      "[ 0  5 10 15 20 25 50 75]\n",
      "[75 50 25 20 15 10  5  0]\n",
      "[75 25 15  5]\n"
     ]
    }
   ],
   "source": [
    "numbers=np.array([0,5,10,15,20,25,50,75])\n",
    "result=numbers[5]\n",
    "print(result)\n",
    "result=numbers[-1]\n",
    "print(result)\n",
    "result=numbers[0:3]\n",
    "print(result)\n",
    "result=numbers[:3]\n",
    "print(result)\n",
    "result=numbers[3:]\n",
    "print(result)\n",
    "result=numbers[::]\n",
    "print(result)\n",
    "result=numbers[::-1]\n",
    "print(result)\n",
    "result=numbers[::-2]\n",
    "print(result)"
   ]
  },
  {
   "cell_type": "code",
   "execution_count": 62,
   "id": "e683319c-58e6-4db1-93be-aade55cf4080",
   "metadata": {},
   "outputs": [
    {
     "name": "stdout",
     "output_type": "stream",
     "text": [
      "[[ 0  5 10]\n",
      " [15 20 25]\n",
      " [50 75 85]]\n",
      "****\n",
      "[ 0  5 10]\n",
      "[15 20 25]\n",
      "10\n",
      "75\n",
      "[10 25 85]\n",
      "[ 0 15 50]\n",
      "[[ 0  5]\n",
      " [15 20]\n",
      " [50 75]]\n",
      "[50 75 85]\n",
      "[[ 0  5 10]\n",
      " [15 20 25]\n",
      " [50 75 85]]\n",
      "[[ 0  5]\n",
      " [15 20]]\n"
     ]
    }
   ],
   "source": [
    "numbers2=np.array([[0,5,10],[15,20,25],[50,75,85]])\n",
    "print(numbers2)\n",
    "print(\"****\")\n",
    "result=numbers2[0]\n",
    "print(result)\n",
    "result=numbers2[1]\n",
    "print(result)\n",
    "result=numbers2[0,2] #0.ındeks satırı 2.eleman\n",
    "print(result)\n",
    "result=numbers2[2,1]\n",
    "print(result)\n",
    "result=numbers2[:,2] #tum saatırlardan 2.ındeks sutunu\n",
    "print(result)\n",
    "result=numbers2[:,0]\n",
    "print(result)\n",
    "result=numbers2[:,0:2] #tum satırları sectık 0 ve 2. ındeks sutunlarındakı elemanları aldı ;\n",
    "print(result)\n",
    "result=numbers2[-1,:] #son satırdakı tum sutunları aldık\n",
    "print(result)\n",
    "result=numbers2[:3,:3] # tum satırlardan tum sutunları\n",
    "print(result)\n",
    "result=numbers2[:2,:2] # 2satıra kadar ve 2sutuna kadar olan elemanlar\n",
    "print(result)"
   ]
  },
  {
   "cell_type": "code",
   "execution_count": 63,
   "id": "81acd93a-02e7-4ef2-9d4a-5de5c543e8f6",
   "metadata": {},
   "outputs": [
    {
     "name": "stdout",
     "output_type": "stream",
     "text": [
      "[0 1 2 3 4 5 6 7 8 9]\n",
      "[0 1 2 3 4 5 6 7 8 9]\n"
     ]
    }
   ],
   "source": [
    "arr1=np.arange(0,10)\n",
    "arr2=arr1 #referans kopyalama\n",
    "print(arr1)\n",
    "print(arr2)"
   ]
  },
  {
   "cell_type": "code",
   "execution_count": 64,
   "id": "7ab50e80-6cbf-402b-9ce0-562914236467",
   "metadata": {},
   "outputs": [
    {
     "name": "stdout",
     "output_type": "stream",
     "text": [
      "[20  1  2  3  4  5  6  7  8  9]\n",
      "[20  1  2  3  4  5  6  7  8  9]\n"
     ]
    }
   ],
   "source": [
    "arr2[0]=20\n",
    "arr2[0]=20\n",
    "print(arr1)\n",
    "print(arr2)"
   ]
  },
  {
   "cell_type": "code",
   "execution_count": 67,
   "id": "f67e180a-d3f4-4aa4-90d7-dfb37011eec0",
   "metadata": {},
   "outputs": [
    {
     "name": "stdout",
     "output_type": "stream",
     "text": [
      "[0 1 2 3 4 5 6 7 8 9]\n",
      "[0 1 2 3 4 5 6 7 8 9]\n",
      "[0 1 2 3 4 5 6 7 8 9]\n",
      "[20  1  2  3  4  5  6  7  8  9]\n"
     ]
    }
   ],
   "source": [
    "#farklı adreste kopyalama \n",
    "arr1=np.arange(0,10)\n",
    "arr2=arr1.copy()\n",
    "\n",
    "print(arr1)\n",
    "print(arr2)\n",
    "arr2[0]=20 #sadece arr2 yi etkıledi\n",
    "print(arr1)\n",
    "print(arr2)"
   ]
  },
  {
   "cell_type": "code",
   "execution_count": 68,
   "id": "cf5766a6-be1e-4943-bc47-1f8bc6e58e66",
   "metadata": {},
   "outputs": [],
   "source": [
    "#numpy dizi operasyonları"
   ]
  },
  {
   "cell_type": "code",
   "execution_count": 69,
   "id": "4d6af74d-4596-4140-8073-60d31ef143e1",
   "metadata": {},
   "outputs": [
    {
     "name": "stdout",
     "output_type": "stream",
     "text": [
      "[64 99 77 79 89 25]\n",
      "[22 23 52 95 92 38]\n"
     ]
    }
   ],
   "source": [
    "numbers1=np.random.randint(10,100,6)\n",
    "numbers2=np.random.randint(10,100,6)\n",
    "print(numbers1)\n",
    "print(numbers2)                   "
   ]
  },
  {
   "cell_type": "code",
   "execution_count": 71,
   "id": "01a50f39-342e-48b3-b725-c28b1280ca8c",
   "metadata": {},
   "outputs": [
    {
     "name": "stdout",
     "output_type": "stream",
     "text": [
      "[ 86 122 129 174 181  63]\n"
     ]
    }
   ],
   "source": [
    "result=numbers1+numbers2\n",
    "print(result)"
   ]
  },
  {
   "cell_type": "code",
   "execution_count": 72,
   "id": "be3dd2b8-8100-4b88-850e-40866a49b3c7",
   "metadata": {},
   "outputs": [
    {
     "name": "stdout",
     "output_type": "stream",
     "text": [
      "[ 74 109  87  89  99  35]\n"
     ]
    }
   ],
   "source": [
    "result=numbers1+10\n",
    "print(result)"
   ]
  },
  {
   "cell_type": "code",
   "execution_count": 73,
   "id": "013b1ae7-135a-44ff-ae66-1bc0131ad7f2",
   "metadata": {},
   "outputs": [
    {
     "name": "stdout",
     "output_type": "stream",
     "text": [
      "[ 42  76  25 -16  -3 -13]\n"
     ]
    }
   ],
   "source": [
    "result=numbers1-numbers2\n",
    "print(result)"
   ]
  },
  {
   "cell_type": "code",
   "execution_count": 74,
   "id": "36349990-f308-4616-af86-ee519a439b8a",
   "metadata": {},
   "outputs": [
    {
     "name": "stdout",
     "output_type": "stream",
     "text": [
      "[54 89 67 69 79 15]\n"
     ]
    }
   ],
   "source": [
    "result=numbers1-10\n",
    "print(result)"
   ]
  },
  {
   "cell_type": "code",
   "execution_count": 75,
   "id": "2f260f71-6333-4547-922c-507103022238",
   "metadata": {},
   "outputs": [
    {
     "name": "stdout",
     "output_type": "stream",
     "text": [
      "[1408 2277 4004 7505 8188  950]\n"
     ]
    }
   ],
   "source": [
    "result=numbers1*numbers2\n",
    "print(result)"
   ]
  },
  {
   "cell_type": "code",
   "execution_count": 76,
   "id": "fea1f103-58dc-4a87-89bb-28dcae306b24",
   "metadata": {},
   "outputs": [
    {
     "name": "stdout",
     "output_type": "stream",
     "text": [
      "[2.90909091 4.30434783 1.48076923 0.83157895 0.9673913  0.65789474]\n"
     ]
    }
   ],
   "source": [
    "result=numbers1/numbers2\n",
    "print(result)"
   ]
  },
  {
   "cell_type": "code",
   "execution_count": 77,
   "id": "33845c9e-5883-4460-a2ea-1e4630e3dd3e",
   "metadata": {},
   "outputs": [
    {
     "name": "stdout",
     "output_type": "stream",
     "text": [
      "[6.4 9.9 7.7 7.9 8.9 2.5]\n"
     ]
    }
   ],
   "source": [
    "result=numbers1/10\n",
    "print(result)"
   ]
  },
  {
   "cell_type": "code",
   "execution_count": 80,
   "id": "d6b2eb75-cdb1-4809-8fb3-0e3220f3d88f",
   "metadata": {},
   "outputs": [
    {
     "name": "stdout",
     "output_type": "stream",
     "text": [
      "[ 0.92002604 -0.99920683  0.99952016 -0.44411267  0.86006941 -0.13235175]\n",
      "[ 0.39185723  0.03982088 -0.03097503 -0.89597095  0.51017704  0.99120281]\n",
      "[8.         9.94987437 8.77496439 8.88819442 9.43398113 5.        ]\n",
      "[4.15888308 4.59511985 4.34380542 4.36944785 4.48863637 3.21887582]\n"
     ]
    }
   ],
   "source": [
    "result=np.sin(numbers1)\n",
    "print(result)\n",
    "result=np.cos(numbers1)\n",
    "print(result)\n",
    "result=np.sqrt(numbers1) #sqrt karekok\n",
    "print(result)\n",
    "result=np.log(numbers1)\n",
    "print(result)"
   ]
  },
  {
   "cell_type": "code",
   "execution_count": 81,
   "id": "356bda12-53ba-4305-8612-e14c87540867",
   "metadata": {},
   "outputs": [
    {
     "name": "stdout",
     "output_type": "stream",
     "text": [
      "[[64 99 77]\n",
      " [79 89 25]]\n",
      "[[22 23 52]\n",
      " [95 92 38]]\n"
     ]
    }
   ],
   "source": [
    "mnumbers1=numbers1.reshape(2,3)\n",
    "mnumbers2=numbers2.reshape(2,3)\n",
    "print(mnumbers1)\n",
    "print(mnumbers2) "
   ]
  },
  {
   "cell_type": "code",
   "execution_count": 84,
   "id": "1fa7f7e0-a95f-49d9-a238-22cef590e6cd",
   "metadata": {},
   "outputs": [
    {
     "name": "stdout",
     "output_type": "stream",
     "text": [
      "[[64 99 77]\n",
      " [79 89 25]\n",
      " [22 23 52]\n",
      " [95 92 38]]\n",
      "[[64 99 77 22 23 52]\n",
      " [79 89 25 95 92 38]]\n"
     ]
    }
   ],
   "source": [
    "result=np.vstack((mnumbers1,mnumbers2)) #dıkey olarak art arda ekledı bırlestırdı\n",
    "print(result)\n",
    "result=np.hstack((mnumbers1,mnumbers2)) #yatay olarak art arda ekledı bırlestırdı\n",
    "print(result)"
   ]
  },
  {
   "cell_type": "code",
   "execution_count": 93,
   "id": "a8152476-bc99-4f8d-8a2e-a3bdeb675d26",
   "metadata": {},
   "outputs": [
    {
     "name": "stdout",
     "output_type": "stream",
     "text": [
      "[ True False False False False False]\n",
      "[64]\n"
     ]
    }
   ],
   "source": [
    "#result=numbers1>=50\n",
    "#print(result)\n",
    "result=numbers1%2==0\n",
    "print(result)\n",
    "print(numbers1[result])"
   ]
  },
  {
   "cell_type": "code",
   "execution_count": 4,
   "id": "43c221de-9e32-44b4-acdf-74f11f8edf40",
   "metadata": {},
   "outputs": [
    {
     "name": "stdout",
     "output_type": "stream",
     "text": [
      "[0.49131897 0.43016305 0.75193309 0.49786058 0.21730598 0.68829105\n",
      " 0.52536928 0.01885299 0.10473497 0.35184531]\n",
      "[ 0.54144697 -1.56711227 -0.47070244  1.20755466 -0.00292482  0.20631061\n",
      "  1.1441379  -2.26706869  2.11981374  0.42877054]\n"
     ]
    }
   ],
   "source": [
    "result=np.random.rand(10) # 0-1 arası 10 adaet sayı\n",
    "print(result)\n",
    "result=np.random.randn(10) # -1 ve 1 arası 10 adaet sayı\n",
    "print(result)"
   ]
  },
  {
   "cell_type": "code",
   "execution_count": 99,
   "id": "e2386cd1-6ee3-4447-b4d0-51f84fd9e71d",
   "metadata": {},
   "outputs": [
    {
     "name": "stdout",
     "output_type": "stream",
     "text": [
      "[[28 43 10 15 40]\n",
      " [35 29 27 26 49]\n",
      " [42 21 14 17 27]]\n"
     ]
    }
   ],
   "source": [
    "result=np.random.randint(10,50,15).reshape(3,5)\n",
    "print(result)"
   ]
  },
  {
   "cell_type": "code",
   "execution_count": 5,
   "id": "09f83d9c-26f6-4363-8781-acf98fd0deb3",
   "metadata": {},
   "outputs": [
    {
     "name": "stdout",
     "output_type": "stream",
     "text": [
      "[109 146 127]\n",
      "[53 93 75 65 96]\n"
     ]
    }
   ],
   "source": [
    "matris=np.random.randint(10,50,15).reshape(3,5)\n",
    "toplamyatay=matris.sum(axis=1)\n",
    "print(toplamyatay)\n",
    "toplamdikey=matris.sum(axis=0)\n",
    "print(toplamdikey)"
   ]
  },
  {
   "cell_type": "code",
   "execution_count": 6,
   "id": "5c0984df-2034-480c-8b9c-b82a42f511a5",
   "metadata": {},
   "outputs": [
    {
     "name": "stdout",
     "output_type": "stream",
     "text": [
      "43\n",
      "10\n"
     ]
    }
   ],
   "source": [
    "matris=np.random.randint(-50,50,15).reshape(3,5)\n",
    "result1=matris.max()\n",
    "print(result1)\n",
    "result=matris.min()\n",
    "print(result)"
   ]
  },
  {
   "cell_type": "code",
   "execution_count": 7,
   "id": "b6e41b7a-022a-4ee3-b23a-4c6c732dd3b5",
   "metadata": {},
   "outputs": [
    {
     "name": "stdout",
     "output_type": "stream",
     "text": [
      "[10 11 12 13 14 15 16 17 18 19]\n"
     ]
    }
   ],
   "source": [
    "arr=np.arange(10,20)\n",
    "print(arr)"
   ]
  },
  {
   "cell_type": "code",
   "execution_count": 9,
   "id": "e779ed41-600b-4901-9e65-4e07a9f71ba0",
   "metadata": {},
   "outputs": [
    {
     "name": "stdout",
     "output_type": "stream",
     "text": [
      "[10 11 12 13 14 15 16 17 18 19]\n"
     ]
    }
   ],
   "source": [
    "result=arr[::]\n",
    "print(result)"
   ]
  },
  {
   "cell_type": "code",
   "execution_count": 12,
   "id": "57a10233-ac57-4271-a2ef-a4d61aac1f61",
   "metadata": {},
   "outputs": [
    {
     "name": "stdout",
     "output_type": "stream",
     "text": [
      "[30 34 22 34 20]\n"
     ]
    }
   ],
   "source": [
    "ciftler=matris[matris%2==0]\n",
    "result=ciftler[ciftler>15]\n",
    "print(result)"
   ]
  }
 ],
 "metadata": {
  "kernelspec": {
   "display_name": "Python 3 (ipykernel)",
   "language": "python",
   "name": "python3"
  },
  "language_info": {
   "codemirror_mode": {
    "name": "ipython",
    "version": 3
   },
   "file_extension": ".py",
   "mimetype": "text/x-python",
   "name": "python",
   "nbconvert_exporter": "python",
   "pygments_lexer": "ipython3",
   "version": "3.11.7"
  }
 },
 "nbformat": 4,
 "nbformat_minor": 5
}
